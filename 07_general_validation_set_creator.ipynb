{
 "cells": [
  {
   "cell_type": "code",
   "execution_count": 1,
   "metadata": {},
   "outputs": [
    {
     "name": "stdout",
     "output_type": "stream",
     "text": [
      "데이터셋 경로: {'AffectNet': './Data/AffectNet/Test', 'FER2013': './Data/FER2013/test'}\n",
      "백본 클래스: ['anger', 'contempt', 'disgust', 'fear', 'happy', 'neutral', 'sad', 'surprise']\n"
     ]
    }
   ],
   "source": [
    "# Cell 1: 라이브러리 임포트 및 설정\n",
    "import os\n",
    "import pandas as pd\n",
    "import numpy as np\n",
    "from est_utils import BACKBONE_CLASSES, create_general_validation_set\n",
    "\n",
    "# 설정\n",
    "BASE_DATA_PATH = './Data/'\n",
    "\n",
    "# 모니터링에 사용할 test 폴더 경로\n",
    "DATASET_PATHS = {\n",
    "    'AffectNet': os.path.join(BASE_DATA_PATH, 'AffectNet/Test'),\n",
    "    'FER2013': os.path.join(BASE_DATA_PATH, 'FER2013/test')\n",
    "}\n",
    "\n",
    "OUTPUT_CSV_PATH = '07_general_val_set.csv'\n",
    "\n",
    "print(\"데이터셋 경로:\", DATASET_PATHS)\n",
    "print(\"백본 클래스:\", BACKBONE_CLASSES)"
   ]
  },
  {
   "cell_type": "code",
   "execution_count": 2,
   "metadata": {},
   "outputs": [
    {
     "name": "stdout",
     "output_type": "stream",
     "text": [
      "Processing AffectNet...\n"
     ]
    },
    {
     "name": "stderr",
     "output_type": "stream",
     "text": [
      "AffectNet Emotions: 100%|██████████| 8/8 [00:00<00:00, 45.32it/s]\n"
     ]
    },
    {
     "name": "stdout",
     "output_type": "stream",
     "text": [
      "Processing FER2013...\n"
     ]
    },
    {
     "name": "stderr",
     "output_type": "stream",
     "text": [
      "FER2013 Emotions: 100%|██████████| 7/7 [00:00<00:00, 127.24it/s]\n"
     ]
    },
    {
     "name": "stdout",
     "output_type": "stream",
     "text": [
      "총 21696개의 이미지 파일을 수집했습니다.\n",
      "생성된 DataFrame 형태: (21696, 16)\n",
      "Category 분포:\n",
      "category\n",
      "happy       4478\n",
      "neutral     3601\n",
      "sad         2831\n",
      "surprise    2751\n",
      "fear        2688\n",
      "anger       2676\n",
      "disgust     1359\n",
      "contempt    1312\n",
      "Name: count, dtype: int64\n",
      "07_general_val_set.csv 파일이 성공적으로 생성되었습니다.\n",
      "일반 검증 세트 생성이 완료되었습니다.\n"
     ]
    },
    {
     "data": {
      "application/vnd.microsoft.datawrangler.viewer.v0+json": {
       "columns": [
        {
         "name": "index",
         "rawType": "int64",
         "type": "integer"
        },
        {
         "name": "phase",
         "rawType": "object",
         "type": "string"
        },
        {
         "name": "category",
         "rawType": "object",
         "type": "string"
        },
        {
         "name": "filename",
         "rawType": "object",
         "type": "string"
        },
        {
         "name": "img_path",
         "rawType": "object",
         "type": "string"
        },
        {
         "name": "exists",
         "rawType": "bool",
         "type": "boolean"
        },
        {
         "name": "annot_A",
         "rawType": "float64",
         "type": "float"
        },
        {
         "name": "annot_B",
         "rawType": "float64",
         "type": "float"
        },
        {
         "name": "annot_C",
         "rawType": "float64",
         "type": "float"
        },
        {
         "name": "soft_anger",
         "rawType": "float64",
         "type": "float"
        },
        {
         "name": "soft_contempt",
         "rawType": "float64",
         "type": "float"
        },
        {
         "name": "soft_disgust",
         "rawType": "float64",
         "type": "float"
        },
        {
         "name": "soft_fear",
         "rawType": "float64",
         "type": "float"
        },
        {
         "name": "soft_happy",
         "rawType": "float64",
         "type": "float"
        },
        {
         "name": "soft_neutral",
         "rawType": "float64",
         "type": "float"
        },
        {
         "name": "soft_sad",
         "rawType": "float64",
         "type": "float"
        },
        {
         "name": "soft_surprise",
         "rawType": "float64",
         "type": "float"
        }
       ],
       "ref": "33a9470e-6055-4d31-a811-a0eeabae3bb0",
       "rows": [
        [
         "0",
         "val",
         "disgust",
         "image0030361.jpg",
         "./Data/AffectNet/Test/disgust/image0030361.jpg",
         "True",
         null,
         null,
         null,
         "0.0",
         "0.0",
         "1.0",
         "0.0",
         "0.0",
         "0.0",
         "0.0",
         "0.0"
        ],
        [
         "1",
         "val",
         "disgust",
         "image0035046.jpg",
         "./Data/AffectNet/Test/disgust/image0035046.jpg",
         "True",
         null,
         null,
         null,
         "0.0",
         "0.0",
         "1.0",
         "0.0",
         "0.0",
         "0.0",
         "0.0",
         "0.0"
        ],
        [
         "2",
         "val",
         "disgust",
         "image0020592.jpg",
         "./Data/AffectNet/Test/disgust/image0020592.jpg",
         "True",
         null,
         null,
         null,
         "0.0",
         "0.0",
         "1.0",
         "0.0",
         "0.0",
         "0.0",
         "0.0",
         "0.0"
        ],
        [
         "3",
         "val",
         "disgust",
         "image0025565.jpg",
         "./Data/AffectNet/Test/disgust/image0025565.jpg",
         "True",
         null,
         null,
         null,
         "0.0",
         "0.0",
         "1.0",
         "0.0",
         "0.0",
         "0.0",
         "0.0",
         "0.0"
        ],
        [
         "4",
         "val",
         "disgust",
         "image0034488.jpg",
         "./Data/AffectNet/Test/disgust/image0034488.jpg",
         "True",
         null,
         null,
         null,
         "0.0",
         "0.0",
         "1.0",
         "0.0",
         "0.0",
         "0.0",
         "0.0",
         "0.0"
        ]
       ],
       "shape": {
        "columns": 16,
        "rows": 5
       }
      },
      "text/html": [
       "<div>\n",
       "<style scoped>\n",
       "    .dataframe tbody tr th:only-of-type {\n",
       "        vertical-align: middle;\n",
       "    }\n",
       "\n",
       "    .dataframe tbody tr th {\n",
       "        vertical-align: top;\n",
       "    }\n",
       "\n",
       "    .dataframe thead th {\n",
       "        text-align: right;\n",
       "    }\n",
       "</style>\n",
       "<table border=\"1\" class=\"dataframe\">\n",
       "  <thead>\n",
       "    <tr style=\"text-align: right;\">\n",
       "      <th></th>\n",
       "      <th>phase</th>\n",
       "      <th>category</th>\n",
       "      <th>filename</th>\n",
       "      <th>img_path</th>\n",
       "      <th>exists</th>\n",
       "      <th>annot_A</th>\n",
       "      <th>annot_B</th>\n",
       "      <th>annot_C</th>\n",
       "      <th>soft_anger</th>\n",
       "      <th>soft_contempt</th>\n",
       "      <th>soft_disgust</th>\n",
       "      <th>soft_fear</th>\n",
       "      <th>soft_happy</th>\n",
       "      <th>soft_neutral</th>\n",
       "      <th>soft_sad</th>\n",
       "      <th>soft_surprise</th>\n",
       "    </tr>\n",
       "  </thead>\n",
       "  <tbody>\n",
       "    <tr>\n",
       "      <th>0</th>\n",
       "      <td>val</td>\n",
       "      <td>disgust</td>\n",
       "      <td>image0030361.jpg</td>\n",
       "      <td>./Data/AffectNet/Test/disgust/image0030361.jpg</td>\n",
       "      <td>True</td>\n",
       "      <td>NaN</td>\n",
       "      <td>NaN</td>\n",
       "      <td>NaN</td>\n",
       "      <td>0.0</td>\n",
       "      <td>0.0</td>\n",
       "      <td>1.0</td>\n",
       "      <td>0.0</td>\n",
       "      <td>0.0</td>\n",
       "      <td>0.0</td>\n",
       "      <td>0.0</td>\n",
       "      <td>0.0</td>\n",
       "    </tr>\n",
       "    <tr>\n",
       "      <th>1</th>\n",
       "      <td>val</td>\n",
       "      <td>disgust</td>\n",
       "      <td>image0035046.jpg</td>\n",
       "      <td>./Data/AffectNet/Test/disgust/image0035046.jpg</td>\n",
       "      <td>True</td>\n",
       "      <td>NaN</td>\n",
       "      <td>NaN</td>\n",
       "      <td>NaN</td>\n",
       "      <td>0.0</td>\n",
       "      <td>0.0</td>\n",
       "      <td>1.0</td>\n",
       "      <td>0.0</td>\n",
       "      <td>0.0</td>\n",
       "      <td>0.0</td>\n",
       "      <td>0.0</td>\n",
       "      <td>0.0</td>\n",
       "    </tr>\n",
       "    <tr>\n",
       "      <th>2</th>\n",
       "      <td>val</td>\n",
       "      <td>disgust</td>\n",
       "      <td>image0020592.jpg</td>\n",
       "      <td>./Data/AffectNet/Test/disgust/image0020592.jpg</td>\n",
       "      <td>True</td>\n",
       "      <td>NaN</td>\n",
       "      <td>NaN</td>\n",
       "      <td>NaN</td>\n",
       "      <td>0.0</td>\n",
       "      <td>0.0</td>\n",
       "      <td>1.0</td>\n",
       "      <td>0.0</td>\n",
       "      <td>0.0</td>\n",
       "      <td>0.0</td>\n",
       "      <td>0.0</td>\n",
       "      <td>0.0</td>\n",
       "    </tr>\n",
       "    <tr>\n",
       "      <th>3</th>\n",
       "      <td>val</td>\n",
       "      <td>disgust</td>\n",
       "      <td>image0025565.jpg</td>\n",
       "      <td>./Data/AffectNet/Test/disgust/image0025565.jpg</td>\n",
       "      <td>True</td>\n",
       "      <td>NaN</td>\n",
       "      <td>NaN</td>\n",
       "      <td>NaN</td>\n",
       "      <td>0.0</td>\n",
       "      <td>0.0</td>\n",
       "      <td>1.0</td>\n",
       "      <td>0.0</td>\n",
       "      <td>0.0</td>\n",
       "      <td>0.0</td>\n",
       "      <td>0.0</td>\n",
       "      <td>0.0</td>\n",
       "    </tr>\n",
       "    <tr>\n",
       "      <th>4</th>\n",
       "      <td>val</td>\n",
       "      <td>disgust</td>\n",
       "      <td>image0034488.jpg</td>\n",
       "      <td>./Data/AffectNet/Test/disgust/image0034488.jpg</td>\n",
       "      <td>True</td>\n",
       "      <td>NaN</td>\n",
       "      <td>NaN</td>\n",
       "      <td>NaN</td>\n",
       "      <td>0.0</td>\n",
       "      <td>0.0</td>\n",
       "      <td>1.0</td>\n",
       "      <td>0.0</td>\n",
       "      <td>0.0</td>\n",
       "      <td>0.0</td>\n",
       "      <td>0.0</td>\n",
       "      <td>0.0</td>\n",
       "    </tr>\n",
       "  </tbody>\n",
       "</table>\n",
       "</div>"
      ],
      "text/plain": [
       "  phase category          filename  \\\n",
       "0   val  disgust  image0030361.jpg   \n",
       "1   val  disgust  image0035046.jpg   \n",
       "2   val  disgust  image0020592.jpg   \n",
       "3   val  disgust  image0025565.jpg   \n",
       "4   val  disgust  image0034488.jpg   \n",
       "\n",
       "                                         img_path  exists  annot_A  annot_B  \\\n",
       "0  ./Data/AffectNet/Test/disgust/image0030361.jpg    True      NaN      NaN   \n",
       "1  ./Data/AffectNet/Test/disgust/image0035046.jpg    True      NaN      NaN   \n",
       "2  ./Data/AffectNet/Test/disgust/image0020592.jpg    True      NaN      NaN   \n",
       "3  ./Data/AffectNet/Test/disgust/image0025565.jpg    True      NaN      NaN   \n",
       "4  ./Data/AffectNet/Test/disgust/image0034488.jpg    True      NaN      NaN   \n",
       "\n",
       "   annot_C  soft_anger  soft_contempt  soft_disgust  soft_fear  soft_happy  \\\n",
       "0      NaN         0.0            0.0           1.0        0.0         0.0   \n",
       "1      NaN         0.0            0.0           1.0        0.0         0.0   \n",
       "2      NaN         0.0            0.0           1.0        0.0         0.0   \n",
       "3      NaN         0.0            0.0           1.0        0.0         0.0   \n",
       "4      NaN         0.0            0.0           1.0        0.0         0.0   \n",
       "\n",
       "   soft_neutral  soft_sad  soft_surprise  \n",
       "0           0.0       0.0            0.0  \n",
       "1           0.0       0.0            0.0  \n",
       "2           0.0       0.0            0.0  \n",
       "3           0.0       0.0            0.0  \n",
       "4           0.0       0.0            0.0  "
      ]
     },
     "metadata": {},
     "output_type": "display_data"
    }
   ],
   "source": [
    "# Cell 2: 일반 검증 세트 생성\n",
    "df_general_val = create_general_validation_set(\n",
    "    dataset_paths=DATASET_PATHS,\n",
    "    backbone_classes=BACKBONE_CLASSES,\n",
    "    output_filename=OUTPUT_CSV_PATH\n",
    ")\n",
    "\n",
    "print(\"일반 검증 세트 생성이 완료되었습니다.\")\n",
    "display(df_general_val.head())"
   ]
  }
 ],
 "metadata": {
  "kernelspec": {
   "display_name": ".venv",
   "language": "python",
   "name": "python3"
  },
  "language_info": {
   "codemirror_mode": {
    "name": "ipython",
    "version": 3
   },
   "file_extension": ".py",
   "mimetype": "text/x-python",
   "name": "python",
   "nbconvert_exporter": "python",
   "pygments_lexer": "ipython3",
   "version": "3.12.3"
  }
 },
 "nbformat": 4,
 "nbformat_minor": 5
}
