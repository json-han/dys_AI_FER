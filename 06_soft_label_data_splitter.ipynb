{
 "cells": [
  {
   "cell_type": "code",
   "execution_count": 1,
   "metadata": {},
   "outputs": [],
   "source": [
    "# Cell 1: 라이브러리 임포트 및 설정\n",
    "import pandas as pd\n",
    "from est_utils import BACKBONE_CLASSES, split_soft_label_data\n",
    "\n",
    "# 설정\n",
    "INPUT_CSV_PATH = '04_softlabel_dataset.csv'\n",
    "OUTPUT_CSV_PATH = '06_softlabel_dataset_resplit.csv'\n",
    "\n",
    "soft_label_columns = [f'soft_{cls}' for cls in BACKBONE_CLASSES]\n",
    "\n",
    "# 분할 매개변수\n",
    "TEST_SIZE = 0.2 # 전체 데이터 대비 Test 세트 비율\n",
    "VAL_SIZE = 0.5 # Test 세트 분리 후 남은 데이터 대비 Validation 세트 비율 (0.5면 50%)\n",
    "RANDOM_STATE = 42 # 재현성을 위한 랜덤 시드\n",
    "RARE_THRESHOLD = 10 # 계층적 분할 시 희귀 클래스로 간주할 최소 샘플 수"
   ]
  },
  {
   "cell_type": "code",
   "execution_count": 2,
   "metadata": {},
   "outputs": [
    {
     "name": "stdout",
     "output_type": "stream",
     "text": [
      "데이터 로드 성공: 04_softlabel_dataset.csv, 8394 행\n"
     ]
    }
   ],
   "source": [
    "# Cell 2: 데이터 로드\n",
    "try:\n",
    "    df = pd.read_csv(INPUT_CSV_PATH)\n",
    "    print(f\"데이터 로드 성공: {INPUT_CSV_PATH}, {len(df)} 행\")\n",
    "except FileNotFoundError:\n",
    "    print(f\"오류: {INPUT_CSV_PATH} 파일을 찾을 수 없습니다. 04_soft_labeling_processor.ipynb를 먼저 실행하여 파일을 생성하세요.\")\n",
    "    df = pd.DataFrame() # 빈 데이터프레임으로 초기화\n",
    "except Exception as e:\n",
    "    print(f\"데이터 로드 중 오류 발생: {e}\")\n",
    "    df = pd.DataFrame()"
   ]
  },
  {
   "cell_type": "code",
   "execution_count": 3,
   "metadata": {},
   "outputs": [
    {
     "name": "stdout",
     "output_type": "stream",
     "text": [
      "데이터 분할 완료.\n"
     ]
    }
   ],
   "source": [
    "# Cell 3: 데이터 분할 수행\n",
    "if not df.empty:\n",
    "    train_df, val_df, test_df = split_soft_label_data(\n",
    "        df,\n",
    "        soft_label_columns,\n",
    "        test_size=TEST_SIZE,\n",
    "        val_size=VAL_SIZE,\n",
    "        random_state=RANDOM_STATE,\n",
    "        rare_threshold=RARE_THRESHOLD\n",
    "    )\n",
    "    print(\"데이터 분할 완료.\")\n",
    "else:\n",
    "    train_df, val_df, test_df = pd.DataFrame(), pd.DataFrame(), pd.DataFrame()\n",
    "    print(\"데이터프레임이 비어있어 분할을 수행할 수 없습니다.\")"
   ]
  },
  {
   "cell_type": "code",
   "execution_count": 4,
   "metadata": {},
   "outputs": [
    {
     "name": "stdout",
     "output_type": "stream",
     "text": [
      "전체 데이터: 8394개\n",
      "Train 세트: 6716개\n",
      "Validation 세트: 839개\n",
      "Test 세트: 839개\n",
      "\n",
      "데이터 세트별 'stratify_key' 감정 분포:\n",
      "| stratify_key       |   Train |   Val |   Test |   Train (Norm) |   Val (Norm) |   Test (Norm) |\n",
      "|:-------------------|--------:|------:|-------:|---------------:|-------------:|--------------:|\n",
      "| happy              |    1727 |   216 |    216 |    0.257147    |   0.257449   |    0.257449   |\n",
      "| sad                |    1446 |   181 |    181 |    0.215307    |   0.215733   |    0.215733   |\n",
      "| anger              |    1334 |   166 |    167 |    0.19863     |   0.197855   |    0.199046   |\n",
      "| surprise           |     990 |   124 |    124 |    0.147409    |   0.147795   |    0.147795   |\n",
      "| fear               |     606 |    76 |     76 |    0.0902323   |   0.090584   |    0.090584   |\n",
      "| neutral            |     549 |    69 |     68 |    0.0817451   |   0.0822408  |    0.0810489  |\n",
      "| happy-surprise     |      45 |     5 |      6 |    0.00670042  |   0.00595948 |    0.00715137 |\n",
      "| fear-happy         |      13 |     2 |      1 |    0.00193568  |   0.00238379 |    0.0011919  |\n",
      "| fear-happy-neutral |       6 |     0 |      0 |    0.000893389 |   0          |    0          |\n"
     ]
    }
   ],
   "source": [
    "# Cell 4: 분할 통계 표시\n",
    "if not train_df.empty or not val_df.empty or not test_df.empty:\n",
    "    print(f'전체 데이터: {len(df)}개')\n",
    "    print(f'Train 세트: {len(train_df)}개')\n",
    "    print(f'Validation 세트: {len(val_df)}개')\n",
    "    print(f'Test 세트: {len(test_df)}개')\n",
    "\n",
    "    # 분할된 세트의 'stratify_key' 분포 확인 (get_stratify_key는 split_soft_label_data 내부에서 호출됨)\n",
    "    # df에 'stratify_key' 컬럼이 추가되어 있어야 함\n",
    "    if 'stratify_key' in df.columns:\n",
    "        train_distribution = train_df['stratify_key'].value_counts()\n",
    "        train_distribution_norm = train_df['stratify_key'].value_counts(normalize=True)\n",
    "\n",
    "        val_distribution = val_df['stratify_key'].value_counts()\n",
    "        val_distribution_norm = val_df['stratify_key'].value_counts(normalize=True)\n",
    "\n",
    "        test_distribution = test_df['stratify_key'].value_counts()\n",
    "        test_distribution_norm = test_df['stratify_key'].value_counts(normalize=True)\n",
    "\n",
    "        # 결측값(NaN)은 0으로 채우고, 인덱스(감정)를 기준으로 정렬\n",
    "        distribution_df = pd.concat(\n",
    "            [train_distribution, val_distribution, test_distribution, train_distribution_norm, val_distribution_norm, test_distribution_norm],\n",
    "            axis=1,\n",
    "            keys=['Train', 'Val', 'Test', 'Train (Norm)', 'Val (Norm)', 'Test (Norm)']\n",
    "        ).fillna(0).astype(float)\n",
    "\n",
    "        print(\"\\n데이터 세트별 'stratify_key' 감정 분포:\")\n",
    "        print(distribution_df.to_markdown())\n",
    "    else:\n",
    "        print(\"'stratify_key' 컬럼이 데이터프레임에 없어 분포를 표시할 수 없습니다.\")\n",
    "else:\n",
    "    print(\"분할된 데이터프레임이 비어있어 통계를 표시할 수 없습니다.\")"
   ]
  },
  {
   "cell_type": "code",
   "execution_count": 5,
   "metadata": {},
   "outputs": [
    {
     "name": "stdout",
     "output_type": "stream",
     "text": [
      "분할 결과가 06_softlabel_dataset_resplit.csv 파일로 저장되었습니다.\n"
     ]
    },
    {
     "data": {
      "application/vnd.microsoft.datawrangler.viewer.v0+json": {
       "columns": [
        {
         "name": "index",
         "rawType": "int64",
         "type": "integer"
        },
        {
         "name": "phase",
         "rawType": "object",
         "type": "string"
        },
        {
         "name": "category",
         "rawType": "object",
         "type": "string"
        },
        {
         "name": "filename",
         "rawType": "object",
         "type": "string"
        },
        {
         "name": "img_path",
         "rawType": "object",
         "type": "string"
        },
        {
         "name": "exists",
         "rawType": "bool",
         "type": "boolean"
        },
        {
         "name": "annot_A",
         "rawType": "object",
         "type": "string"
        },
        {
         "name": "annot_B",
         "rawType": "object",
         "type": "string"
        },
        {
         "name": "annot_C",
         "rawType": "object",
         "type": "string"
        },
        {
         "name": "soft_anger",
         "rawType": "float64",
         "type": "float"
        },
        {
         "name": "soft_contempt",
         "rawType": "float64",
         "type": "float"
        },
        {
         "name": "soft_disgust",
         "rawType": "float64",
         "type": "float"
        },
        {
         "name": "soft_fear",
         "rawType": "float64",
         "type": "float"
        },
        {
         "name": "soft_happy",
         "rawType": "float64",
         "type": "float"
        },
        {
         "name": "soft_neutral",
         "rawType": "float64",
         "type": "float"
        },
        {
         "name": "soft_sad",
         "rawType": "float64",
         "type": "float"
        },
        {
         "name": "soft_surprise",
         "rawType": "float64",
         "type": "float"
        },
        {
         "name": "stratify_key",
         "rawType": "object",
         "type": "string"
        }
       ],
       "ref": "7eb0d1e6-129e-4d2f-8ff1-372212a30040",
       "rows": [
        [
         "0",
         "train",
         "anger",
         "6oj439e3fbcc52759fb3093035b7c0ecc55c93543dae63ec1162f5f6bfc6e481l.jpg",
         "./Data/EST_data/img_train/anger/6oj439e3fbcc52759fb3093035b7c0ecc55c93543dae63ec1162f5f6bfc6e481l.jpg",
         "True",
         "분노",
         "분노",
         "분노",
         "0.8",
         "0.0",
         "0.0",
         "0.0",
         "0.0",
         "0.2",
         "0.0",
         "0.0",
         "anger"
        ],
        [
         "1",
         "val",
         "anger",
         "65rsfe402042f34319e10128c1ab9614e2f967690a64a0016f2c49ff33fe7sy3z.jpg",
         "./Data/EST_data/img_train/anger/65rsfe402042f34319e10128c1ab9614e2f967690a64a0016f2c49ff33fe7sy3z.jpg",
         "True",
         "분노",
         "분노",
         "분노",
         "0.8",
         "0.0",
         "0.0",
         "0.0",
         "0.0",
         "0.2",
         "0.0",
         "0.0",
         "anger"
        ],
        [
         "2",
         "train",
         "anger",
         "b1cbe34734870cc11c33334e02bea93ac3a3b061caab62c0df1c6b9c75430tquz.jpg",
         "./Data/EST_data/img_train/anger/b1cbe34734870cc11c33334e02bea93ac3a3b061caab62c0df1c6b9c75430tquz.jpg",
         "True",
         "상처",
         "불안",
         "슬픔",
         "0.0",
         "0.0",
         "0.0",
         "0.3333333333333333",
         "0.0",
         "0.1999999999999999",
         "0.4666666666666666",
         "0.0",
         "sad"
        ],
        [
         "3",
         "train",
         "anger",
         "llfycc0aa29599cc63cace3610fdaaad3a99aab2ee38c9edb6c10966765bbwd5f.jpg",
         "./Data/EST_data/img_train/anger/llfycc0aa29599cc63cace3610fdaaad3a99aab2ee38c9edb6c10966765bbwd5f.jpg",
         "True",
         "분노",
         "분노",
         "분노",
         "0.8",
         "0.0",
         "0.0",
         "0.0",
         "0.0",
         "0.2",
         "0.0",
         "0.0",
         "anger"
        ],
        [
         "4",
         "train",
         "anger",
         "3hww73b70615461a7336d0383b53582f8bf804f6e0f30d64f36fb410038b82m2u.jpg",
         "./Data/EST_data/img_train/anger/3hww73b70615461a7336d0383b53582f8bf804f6e0f30d64f36fb410038b82m2u.jpg",
         "True",
         "기쁨",
         "분노",
         "분노",
         "0.5333333333333333",
         "0.0",
         "0.0",
         "0.0",
         "0.3333333333333333",
         "0.1333333333333333",
         "0.0",
         "0.0",
         "anger"
        ]
       ],
       "shape": {
        "columns": 17,
        "rows": 5
       }
      },
      "text/html": [
       "<div>\n",
       "<style scoped>\n",
       "    .dataframe tbody tr th:only-of-type {\n",
       "        vertical-align: middle;\n",
       "    }\n",
       "\n",
       "    .dataframe tbody tr th {\n",
       "        vertical-align: top;\n",
       "    }\n",
       "\n",
       "    .dataframe thead th {\n",
       "        text-align: right;\n",
       "    }\n",
       "</style>\n",
       "<table border=\"1\" class=\"dataframe\">\n",
       "  <thead>\n",
       "    <tr style=\"text-align: right;\">\n",
       "      <th></th>\n",
       "      <th>phase</th>\n",
       "      <th>category</th>\n",
       "      <th>filename</th>\n",
       "      <th>img_path</th>\n",
       "      <th>exists</th>\n",
       "      <th>annot_A</th>\n",
       "      <th>annot_B</th>\n",
       "      <th>annot_C</th>\n",
       "      <th>soft_anger</th>\n",
       "      <th>soft_contempt</th>\n",
       "      <th>soft_disgust</th>\n",
       "      <th>soft_fear</th>\n",
       "      <th>soft_happy</th>\n",
       "      <th>soft_neutral</th>\n",
       "      <th>soft_sad</th>\n",
       "      <th>soft_surprise</th>\n",
       "      <th>stratify_key</th>\n",
       "    </tr>\n",
       "  </thead>\n",
       "  <tbody>\n",
       "    <tr>\n",
       "      <th>0</th>\n",
       "      <td>train</td>\n",
       "      <td>anger</td>\n",
       "      <td>6oj439e3fbcc52759fb3093035b7c0ecc55c93543dae63...</td>\n",
       "      <td>./Data/EST_data/img_train/anger/6oj439e3fbcc52...</td>\n",
       "      <td>True</td>\n",
       "      <td>분노</td>\n",
       "      <td>분노</td>\n",
       "      <td>분노</td>\n",
       "      <td>0.800000</td>\n",
       "      <td>0.0</td>\n",
       "      <td>0.0</td>\n",
       "      <td>0.000000</td>\n",
       "      <td>0.000000</td>\n",
       "      <td>0.200000</td>\n",
       "      <td>0.000000</td>\n",
       "      <td>0.0</td>\n",
       "      <td>anger</td>\n",
       "    </tr>\n",
       "    <tr>\n",
       "      <th>1</th>\n",
       "      <td>val</td>\n",
       "      <td>anger</td>\n",
       "      <td>65rsfe402042f34319e10128c1ab9614e2f967690a64a0...</td>\n",
       "      <td>./Data/EST_data/img_train/anger/65rsfe402042f3...</td>\n",
       "      <td>True</td>\n",
       "      <td>분노</td>\n",
       "      <td>분노</td>\n",
       "      <td>분노</td>\n",
       "      <td>0.800000</td>\n",
       "      <td>0.0</td>\n",
       "      <td>0.0</td>\n",
       "      <td>0.000000</td>\n",
       "      <td>0.000000</td>\n",
       "      <td>0.200000</td>\n",
       "      <td>0.000000</td>\n",
       "      <td>0.0</td>\n",
       "      <td>anger</td>\n",
       "    </tr>\n",
       "    <tr>\n",
       "      <th>2</th>\n",
       "      <td>train</td>\n",
       "      <td>anger</td>\n",
       "      <td>b1cbe34734870cc11c33334e02bea93ac3a3b061caab62...</td>\n",
       "      <td>./Data/EST_data/img_train/anger/b1cbe34734870c...</td>\n",
       "      <td>True</td>\n",
       "      <td>상처</td>\n",
       "      <td>불안</td>\n",
       "      <td>슬픔</td>\n",
       "      <td>0.000000</td>\n",
       "      <td>0.0</td>\n",
       "      <td>0.0</td>\n",
       "      <td>0.333333</td>\n",
       "      <td>0.000000</td>\n",
       "      <td>0.200000</td>\n",
       "      <td>0.466667</td>\n",
       "      <td>0.0</td>\n",
       "      <td>sad</td>\n",
       "    </tr>\n",
       "    <tr>\n",
       "      <th>3</th>\n",
       "      <td>train</td>\n",
       "      <td>anger</td>\n",
       "      <td>llfycc0aa29599cc63cace3610fdaaad3a99aab2ee38c9...</td>\n",
       "      <td>./Data/EST_data/img_train/anger/llfycc0aa29599...</td>\n",
       "      <td>True</td>\n",
       "      <td>분노</td>\n",
       "      <td>분노</td>\n",
       "      <td>분노</td>\n",
       "      <td>0.800000</td>\n",
       "      <td>0.0</td>\n",
       "      <td>0.0</td>\n",
       "      <td>0.000000</td>\n",
       "      <td>0.000000</td>\n",
       "      <td>0.200000</td>\n",
       "      <td>0.000000</td>\n",
       "      <td>0.0</td>\n",
       "      <td>anger</td>\n",
       "    </tr>\n",
       "    <tr>\n",
       "      <th>4</th>\n",
       "      <td>train</td>\n",
       "      <td>anger</td>\n",
       "      <td>3hww73b70615461a7336d0383b53582f8bf804f6e0f30d...</td>\n",
       "      <td>./Data/EST_data/img_train/anger/3hww73b7061546...</td>\n",
       "      <td>True</td>\n",
       "      <td>기쁨</td>\n",
       "      <td>분노</td>\n",
       "      <td>분노</td>\n",
       "      <td>0.533333</td>\n",
       "      <td>0.0</td>\n",
       "      <td>0.0</td>\n",
       "      <td>0.000000</td>\n",
       "      <td>0.333333</td>\n",
       "      <td>0.133333</td>\n",
       "      <td>0.000000</td>\n",
       "      <td>0.0</td>\n",
       "      <td>anger</td>\n",
       "    </tr>\n",
       "  </tbody>\n",
       "</table>\n",
       "</div>"
      ],
      "text/plain": [
       "   phase category                                           filename  \\\n",
       "0  train    anger  6oj439e3fbcc52759fb3093035b7c0ecc55c93543dae63...   \n",
       "1    val    anger  65rsfe402042f34319e10128c1ab9614e2f967690a64a0...   \n",
       "2  train    anger  b1cbe34734870cc11c33334e02bea93ac3a3b061caab62...   \n",
       "3  train    anger  llfycc0aa29599cc63cace3610fdaaad3a99aab2ee38c9...   \n",
       "4  train    anger  3hww73b70615461a7336d0383b53582f8bf804f6e0f30d...   \n",
       "\n",
       "                                            img_path  exists annot_A annot_B  \\\n",
       "0  ./Data/EST_data/img_train/anger/6oj439e3fbcc52...    True      분노      분노   \n",
       "1  ./Data/EST_data/img_train/anger/65rsfe402042f3...    True      분노      분노   \n",
       "2  ./Data/EST_data/img_train/anger/b1cbe34734870c...    True      상처      불안   \n",
       "3  ./Data/EST_data/img_train/anger/llfycc0aa29599...    True      분노      분노   \n",
       "4  ./Data/EST_data/img_train/anger/3hww73b7061546...    True      기쁨      분노   \n",
       "\n",
       "  annot_C  soft_anger  soft_contempt  soft_disgust  soft_fear  soft_happy  \\\n",
       "0      분노    0.800000            0.0           0.0   0.000000    0.000000   \n",
       "1      분노    0.800000            0.0           0.0   0.000000    0.000000   \n",
       "2      슬픔    0.000000            0.0           0.0   0.333333    0.000000   \n",
       "3      분노    0.800000            0.0           0.0   0.000000    0.000000   \n",
       "4      분노    0.533333            0.0           0.0   0.000000    0.333333   \n",
       "\n",
       "   soft_neutral  soft_sad  soft_surprise stratify_key  \n",
       "0      0.200000  0.000000            0.0        anger  \n",
       "1      0.200000  0.000000            0.0        anger  \n",
       "2      0.200000  0.466667            0.0          sad  \n",
       "3      0.200000  0.000000            0.0        anger  \n",
       "4      0.133333  0.000000            0.0        anger  "
      ]
     },
     "metadata": {},
     "output_type": "display_data"
    }
   ],
   "source": [
    "# Cell 5: 분할 데이터 저장\n",
    "if not df.empty:\n",
    "    # 원본 DataFrame에 새로운 phase 할당\n",
    "    df.loc[train_df.index, 'new_phase'] = 'train'\n",
    "    df.loc[val_df.index, 'new_phase'] = 'val'\n",
    "    df.loc[test_df.index, 'new_phase'] = 'test'\n",
    "\n",
    "    # 'new_phase'로 'phase' 덮어쓰기\n",
    "    df['phase'] = df['new_phase']\n",
    "\n",
    "    # 'new_phase' 컬럼 삭제\n",
    "    df.drop(columns=['new_phase'], inplace=True)\n",
    "\n",
    "    df.to_csv(OUTPUT_CSV_PATH, index=False)\n",
    "    print(f\"분할 결과가 {OUTPUT_CSV_PATH} 파일로 저장되었습니다.\")\n",
    "    display(df.head())\n",
    "else:\n",
    "    print(\"저장할 데이터프레임이 비어있습니다.\")"
   ]
  }
 ],
 "metadata": {
  "kernelspec": {
   "display_name": ".venv",
   "language": "python",
   "name": "python3"
  },
  "language_info": {
   "codemirror_mode": {
    "name": "ipython",
    "version": 3
   },
   "file_extension": ".py",
   "mimetype": "text/x-python",
   "name": "python",
   "nbconvert_exporter": "python",
   "pygments_lexer": "ipython3",
   "version": "3.12.3"
  }
 },
 "nbformat": 4,
 "nbformat_minor": 5
}
