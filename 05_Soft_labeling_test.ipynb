{
 "cells": [
  {
   "cell_type": "code",
   "execution_count": 1,
   "id": "f18b33c3",
   "metadata": {},
   "outputs": [],
   "source": [
    "import numpy as np"
   ]
  },
  {
   "cell_type": "code",
   "execution_count": null,
   "id": "b6703d32",
   "metadata": {},
   "outputs": [],
   "source": [
    "# HardlyHumans/Facial-expression-detection 모델에서 분류하는 감정들 (labels = model.config.id2label 의 결과)\n",
    "backbone_classes = {\n",
    "    0: 'anger', \n",
    "    1: 'contempt', \n",
    "    2: 'disgust', \n",
    "    3: 'fear', \n",
    "    4: 'happy', \n",
    "    5: 'neutral', \n",
    "    6: 'sad', \n",
    "    7: 'surprise'\n",
    "}"
   ]
  },
  {
   "cell_type": "code",
   "execution_count": null,
   "id": "4883c1b0",
   "metadata": {},
   "outputs": [],
   "source": [
    "# EST_data에서 라벨러가 사용한 감정 종류 (7개): ['기쁨', '당황', '분노', '불안', '상처', '슬픔', '중립'] 를 백본 모델의 분류로 매핑\n",
    "# 기쁨 -> happy\n",
    "# 당황 -> surprise, fear로 소프트 라벨링\n",
    "# 분노 -> anger, contempt, disgust로 소프트 라벨링\n",
    "# 불안 -> fear\n",
    "# 상처 -> sad\n",
    "# 슬픔 -> sad\n",
    "# 중립 -> neutral\n",
    "\n",
    "annotation_to_backbone_map = {\n",
    "    \"기쁨\": {\"happy\": 1.0},\n",
    "    \"당황\": {\"fear\": 0.4, \"surprise\": 0.6}, # 예시\n",
    "    \"분노\": {\"anger\": 0.5, \"contempt\": 0.3, \"disgust\": 0.2}, # 예시\n",
    "    \"불안\": {\"fear\": 1.0},\n",
    "    \"상처\": {\"sad\": 1.0},\n",
    "    \"슬픔\": {\"sad\": 1.0},\n",
    "    \"중립\": {\"neutral\": 1.0}\n",
    "}"
   ]
  },
  {
   "cell_type": "code",
   "execution_count": null,
   "id": "d5fc2fcf",
   "metadata": {},
   "outputs": [],
   "source": [
    "def create_soft_label(annotation_labels): # 매핑 함수\n",
    "    \"\"\"\n",
    "    annotation_labels: list of annotation 감정 문자열, 예: [\"분노\", \"불안\", \"상처\"]\n",
    "    반환: numpy array, 길이 8, 각 백본 클래스에 대한 확률 분포 (soft label)\n",
    "    \"\"\"\n",
    "    soft_label = np.zeros(len(backbone_classes), dtype=np.float32)\n",
    "    # 각 annotation 감정 별 백본 클래스 가중치 누적\n",
    "    for ann in annotation_labels:\n",
    "        if ann in annotation_to_backbone_map:\n",
    "            mapped = annotation_to_backbone_map[ann]\n",
    "            for cls_name, weight in mapped.items():\n",
    "                # 딕셔너리에서 클래스명에 해당하는 인덱스 찾기\n",
    "                idx_list = [idx for idx, name in backbone_classes.items() if name == cls_name]\n",
    "                if idx_list:\n",
    "                    idx = idx_list[0]\n",
    "                    soft_label[idx] += weight\n",
    "        else:\n",
    "            # 미등록 감정은 중립으로 처리\n",
    "            neutral_idx = [idx for idx, name in backbone_classes.items() if name == 'neutral'][0]\n",
    "            soft_label[neutral_idx] += 1.0\n",
    "\n",
    "    # 확률 합이 0이면 중립으로 설정\n",
    "    total = soft_label.sum()\n",
    "    if total > 0:\n",
    "        soft_label /= total\n",
    "    else:\n",
    "        neutral_idx = [idx for idx, name in backbone_classes.items() if name == 'neutral'][0]\n",
    "        soft_label[neutral_idx] = 1.0\n",
    "\n",
    "    return soft_label # np.array"
   ]
  },
  {
   "cell_type": "code",
   "execution_count": null,
   "id": "f851c8a8",
   "metadata": {},
   "outputs": [
    {
     "name": "stdout",
     "output_type": "stream",
     "text": [
      "Soft label vector (index order):\n",
      "0: 0.167\n",
      "1: 0.100\n",
      "2: 0.067\n",
      "3: 0.333\n",
      "4: 0.000\n",
      "5: 0.000\n",
      "6: 0.333\n",
      "7: 0.000\n"
     ]
    }
   ],
   "source": [
    "# 예시, 어떤 사진에 대해 세 라벨러가 [\"분노\", \"불안\", \"상처\"]로 라벨링을 했을 때의 소프트 라벨링\n",
    "example_annotations_1 = [\"분노\", \"불안\", \"상처\"]\n",
    "example_soft_label = create_soft_label(example_annotations_1)\n",
    "\n",
    "print(\"Soft label vector (index order):\")\n",
    "for i, cl in enumerate(backbone_classes):\n",
    "    print(f\"{cl}: {example_soft_label[i]:.3f}\")"
   ]
  },
  {
   "cell_type": "markdown",
   "id": "4ffb1dcd",
   "metadata": {},
   "source": [
    "이후 모델 파이프라인에 넣는 예제\n",
    "``` python\n",
    "from PIL import Image\n",
    "\n",
    "# anger no.1 img\n",
    "img = Image.open(\"/workspace/Data/EST_data/img_test/anger/0h5sfbee84a3ee8e7efdd0f578f83e4df7e491dbcdab482a480a7add89daegs3z.jpg\")\n",
    "# result\n",
    "result = pipe(img)\n",
    "print(result) # 중립 61%, 놀람 34% 반환\n",
    "# [{'label': 'neutral', 'score': 0.6180378198623657}, {'label': 'surprise', 'score': 0.3413133919239044}, {'label': 'sad', 'score': 0.014007982797920704}, {'label': 'contempt', 'score': 0.010649532079696655}, {'label': 'fear', 'score': 0.008162293583154678}]\n",
    "\n",
    "\n",
    "'''\n",
    "# 해당 파일의 json 구조\n",
    "{\n",
    "        \"filename\": \"0h5sfbee84a3ee8e7efdd0f578f83e4df7e491dbcdab482a480a7add89daegs3z.jpg\",\n",
    "        \"gender\": \"여\",\n",
    "        \"age\": 30,\n",
    "        \"isProf\": \"전문인\",\n",
    "        \"faceExp_uploader\": \"분노\",\n",
    "        \"bg_uploader\": \"공공시설/종교/의료시설\",\n",
    "        \"annot_A\": {\n",
    "            \"boxes\": {\n",
    "                \"maxX\": 2002.1239,\n",
    "                \"maxY\": 1270.1625,\n",
    "                \"minX\": 1342.259,\n",
    "                \"minY\": 380.77808\n",
    "            },\n",
    "            \"faceExp\": \"당황\",\n",
    "            \"bg\": \"상업시설/점포/시장\"\n",
    "        },\n",
    "        \"annot_B\": {\n",
    "            \"boxes\": {\n",
    "                \"maxX\": 1989.1384060232301,\n",
    "                \"maxY\": 1280.5532041653823,\n",
    "                \"minX\": 1339.6129150294,\n",
    "                \"minY\": 380.80842846619595\n",
    "            },\n",
    "            \"faceExp\": \"불안\",\n",
    "            \"bg\": \"공공시설/종교/의료\"\n",
    "        },\n",
    "        \"annot_C\": {\n",
    "            \"boxes\": {\n",
    "                \"maxX\": 2002.1238999999998,\n",
    "                \"maxY\": 1270.1625,\n",
    "                \"minX\": 1342.259,\n",
    "                \"minY\": 380.77808000000005\n",
    "            },\n",
    "            \"faceExp\": \"당황\",\n",
    "            \"bg\": \"공공시설/종교/의료\"\n",
    "        }\n",
    "    }\n",
    "'''\n",
    "```"
   ]
  },
  {
   "cell_type": "markdown",
   "id": "1fa5a9d4",
   "metadata": {},
   "source": []
  }
 ],
 "metadata": {
  "kernelspec": {
   "display_name": "Python 3",
   "language": "python",
   "name": "python3"
  },
  "language_info": {
   "codemirror_mode": {
    "name": "ipython",
    "version": 3
   },
   "file_extension": ".py",
   "mimetype": "text/x-python",
   "name": "python",
   "nbconvert_exporter": "python",
   "pygments_lexer": "ipython3",
   "version": "3.11.13"
  }
 },
 "nbformat": 4,
 "nbformat_minor": 5
}
