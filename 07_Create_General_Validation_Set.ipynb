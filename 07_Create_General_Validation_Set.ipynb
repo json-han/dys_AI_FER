{
 "cells": [
  {
   "cell_type": "markdown",
   "metadata": {},
   "source": [
    "## 재앙적 망각 모니터링용 검증 데이터셋 생성\n",
    "\n",
    "이 노트북은 `AffectNet`과 `FER2013` 데이터셋의 **test 폴더**에 있는 이미지들을 사용하여, `07_finetuning.py` 스크립트에서 사용할 `general_val_set.csv` 파일을 생성합니다.\n",
    "\n",
    "**전략:**\n",
    "1. 각 데이터셋의 `test` 폴더 경로를 설정합니다.\n",
    "2. 폴더를 탐색하여 이미지의 경로와 감정 라벨(폴더명)을 수집합니다.\n",
    "3. Hard Label(예: 'happy')을 One-hot Encoding 방식의 Soft Label(예: `soft_happy`=1.0, 나머지=0.0)로 변환합니다.\n",
    "4. `06_softlabel_dataset_resplit.csv`와 동일한 형태로 DataFrame을 만들어 CSV 파일로 저장합니다."
   ]
  },
  {
   "cell_type": "markdown",
   "metadata": {},
   "source": [
    "### 1. 라이브러리 임포트 및 설정"
   ]
  },
  {
   "cell_type": "code",
   "execution_count": 1,
   "metadata": {},
   "outputs": [],
   "source": [
    "import os\n",
    "import pandas as pd\n",
    "import numpy as np\n",
    "from glob import glob\n",
    "from tqdm import tqdm"
   ]
  },
  {
   "cell_type": "markdown",
   "metadata": {},
   "source": [
    "### 2. 데이터셋 경로 및 설정"
   ]
  },
  {
   "cell_type": "code",
   "execution_count": 2,
   "metadata": {},
   "outputs": [
    {
     "name": "stdout",
     "output_type": "stream",
     "text": [
      "데이터셋 경로: {'AffectNet': './Data/AffectNet/Test', 'FER2013': './Data/FER2013/test'}\n",
      "백본 클래스: ['anger', 'contempt', 'disgust', 'fear', 'happy', 'neutral', 'sad', 'surprise']\n"
     ]
    }
   ],
   "source": [
    "# 데이터셋의 기본 경로\n",
    "base_data_path = './Data/'\n",
    "\n",
    "# 모니터링에 사용할 test 폴더 경로\n",
    "dataset_paths = {\n",
    "    'AffectNet': os.path.join(base_data_path, 'AffectNet/Test'),\n",
    "    'FER2013': os.path.join(base_data_path, 'FER2013/test')\n",
    "}\n",
    "\n",
    "# 백본 모델이 사용하는 클래스 (07_finetuning.py 참고)\n",
    "# 순서가 중요합니다.\n",
    "backbone_classes = ['anger', 'contempt', 'disgust', 'fear', 'happy', 'neutral', 'sad', 'surprise']\n",
    "\n",
    "print(\"데이터셋 경로:\", dataset_paths)\n",
    "print(\"백본 클래스:\", backbone_classes)"
   ]
  },
  {
   "cell_type": "markdown",
   "metadata": {},
   "source": [
    "### 3. 이미지 파일 탐색 및 데이터 리스트 생성"
   ]
  },
  {
   "cell_type": "code",
   "execution_count": 4,
   "metadata": {},
   "outputs": [
    {
     "name": "stdout",
     "output_type": "stream",
     "text": [
      "Processing AffectNet...\n"
     ]
    },
    {
     "name": "stderr",
     "output_type": "stream",
     "text": [
      "AffectNet Emotions:   0%|          | 0/8 [00:00<?, ?it/s]"
     ]
    },
    {
     "name": "stderr",
     "output_type": "stream",
     "text": [
      "AffectNet Emotions: 100%|██████████| 8/8 [00:00<00:00, 52.63it/s]\n"
     ]
    },
    {
     "name": "stdout",
     "output_type": "stream",
     "text": [
      "Processing FER2013...\n"
     ]
    },
    {
     "name": "stderr",
     "output_type": "stream",
     "text": [
      "FER2013 Emotions:   0%|          | 0/7 [00:00<?, ?it/s]"
     ]
    },
    {
     "name": "stdout",
     "output_type": "stream",
     "text": [
      "[Warning] Skipping emotion 'angry' as it is not in backbone_classes.\n"
     ]
    },
    {
     "name": "stderr",
     "output_type": "stream",
     "text": [
      "FER2013 Emotions: 100%|██████████| 7/7 [00:00<00:00, 80.36it/s]"
     ]
    },
    {
     "name": "stdout",
     "output_type": "stream",
     "text": [
      "총 20738개의 이미지 파일을 수집했습니다.\n"
     ]
    },
    {
     "name": "stderr",
     "output_type": "stream",
     "text": [
      "\n"
     ]
    }
   ],
   "source": [
    "image_data_list = []\n",
    "\n",
    "# 각 데이터셋 경로에 대해 반복\n",
    "for dataset_name, path in dataset_paths.items():\n",
    "    print(f\"Processing {dataset_name}...\")\n",
    "\n",
    "    # 감정 라벨 폴더 목록 가져오기\n",
    "    emotion_folders = [d for d in os.listdir(path) if os.path.isdir(os.path.join(path, d))]\n",
    "    \n",
    "    for emotion in tqdm(emotion_folders, desc=f'{dataset_name} Emotions'):\n",
    "        # 감정 라벨 이름 클리닝 및 확인 (소문자로 변환)\n",
    "        cleaned_emotion = emotion.lower()\n",
    "        \n",
    "        if cleaned_emotion not in backbone_classes:\n",
    "            print(f\"[Warning] Skipping emotion '{emotion}' as it is not in backbone_classes.\")\n",
    "            continue\n",
    "            \n",
    "        # 이미지 파일 경로 탐색 (jpg, png 등 다양한 확장자 지원)\n",
    "        image_files = glob(os.path.join(path, emotion, '*.jpg')) + \\\n",
    "                      glob(os.path.join(path, emotion, '*.png')) + \\\n",
    "                      glob(os.path.join(path, emotion, '*.jpeg'))\n",
    "        \n",
    "        for img_path in image_files:\n",
    "            # One-hot 인코딩 방식의 soft label 생성\n",
    "            soft_label_vector = {f'soft_{cls}': 0.0 for cls in backbone_classes}\n",
    "            soft_label_vector[f'soft_{cleaned_emotion}'] = 1.0\n",
    "            \n",
    "            # CSV 한 행에 들어갈 데이터 딕셔너리 생성\n",
    "            row = {\n",
    "                'phase': 'val',\n",
    "                'category': cleaned_emotion,\n",
    "                'filename': os.path.basename(img_path),\n",
    "                'img_path': img_path.replace('\\\\', '/'), # 경로 구분자 통일\n",
    "                'exists': True,\n",
    "                'annot_A': np.nan,\n",
    "                'annot_B': np.nan,\n",
    "                'annot_C': np.nan,\n",
    "            }\n",
    "            \n",
    "            # soft label 값을 row에 추가\n",
    "            row.update(soft_label_vector)\n",
    "            image_data_list.append(row)\n",
    "\n",
    "print(f\"총 {len(image_data_list)}개의 이미지 파일을 수집했습니다.\")"
   ]
  },
  {
   "cell_type": "markdown",
   "metadata": {},
   "source": [
    "### 4. DataFrame 생성 및 CSV 저장"
   ]
  },
  {
   "cell_type": "code",
   "execution_count": 6,
   "metadata": {},
   "outputs": [
    {
     "name": "stdout",
     "output_type": "stream",
     "text": [
      "생성된 DataFrame 형태: (20738, 16)\n",
      "Category 분포:\n",
      "category\n",
      "happy       4478\n",
      "neutral     3601\n",
      "sad         2831\n",
      "surprise    2751\n",
      "fear        2688\n",
      "anger       1718\n",
      "disgust     1359\n",
      "contempt    1312\n",
      "Name: count, dtype: int64\n",
      "07_general_val_set.csv 파일이 성공적으로 생성되었습니다.\n"
     ]
    },
    {
     "data": {
      "application/vnd.microsoft.datawrangler.viewer.v0+json": {
       "columns": [
        {
         "name": "index",
         "rawType": "int64",
         "type": "integer"
        },
        {
         "name": "phase",
         "rawType": "object",
         "type": "string"
        },
        {
         "name": "category",
         "rawType": "object",
         "type": "string"
        },
        {
         "name": "filename",
         "rawType": "object",
         "type": "string"
        },
        {
         "name": "img_path",
         "rawType": "object",
         "type": "string"
        },
        {
         "name": "exists",
         "rawType": "bool",
         "type": "boolean"
        },
        {
         "name": "annot_A",
         "rawType": "float64",
         "type": "float"
        },
        {
         "name": "annot_B",
         "rawType": "float64",
         "type": "float"
        },
        {
         "name": "annot_C",
         "rawType": "float64",
         "type": "float"
        },
        {
         "name": "soft_anger",
         "rawType": "float64",
         "type": "float"
        },
        {
         "name": "soft_contempt",
         "rawType": "float64",
         "type": "float"
        },
        {
         "name": "soft_disgust",
         "rawType": "float64",
         "type": "float"
        },
        {
         "name": "soft_fear",
         "rawType": "float64",
         "type": "float"
        },
        {
         "name": "soft_happy",
         "rawType": "float64",
         "type": "float"
        },
        {
         "name": "soft_neutral",
         "rawType": "float64",
         "type": "float"
        },
        {
         "name": "soft_sad",
         "rawType": "float64",
         "type": "float"
        },
        {
         "name": "soft_surprise",
         "rawType": "float64",
         "type": "float"
        }
       ],
       "ref": "e5ad1710-19db-4369-8312-891d051c2de4",
       "rows": [
        [
         "0",
         "val",
         "disgust",
         "image0030361.jpg",
         "./Data/AffectNet/Test/disgust/image0030361.jpg",
         "True",
         null,
         null,
         null,
         "0.0",
         "0.0",
         "1.0",
         "0.0",
         "0.0",
         "0.0",
         "0.0",
         "0.0"
        ],
        [
         "1",
         "val",
         "disgust",
         "image0035046.jpg",
         "./Data/AffectNet/Test/disgust/image0035046.jpg",
         "True",
         null,
         null,
         null,
         "0.0",
         "0.0",
         "1.0",
         "0.0",
         "0.0",
         "0.0",
         "0.0",
         "0.0"
        ],
        [
         "2",
         "val",
         "disgust",
         "image0020592.jpg",
         "./Data/AffectNet/Test/disgust/image0020592.jpg",
         "True",
         null,
         null,
         null,
         "0.0",
         "0.0",
         "1.0",
         "0.0",
         "0.0",
         "0.0",
         "0.0",
         "0.0"
        ],
        [
         "3",
         "val",
         "disgust",
         "image0025565.jpg",
         "./Data/AffectNet/Test/disgust/image0025565.jpg",
         "True",
         null,
         null,
         null,
         "0.0",
         "0.0",
         "1.0",
         "0.0",
         "0.0",
         "0.0",
         "0.0",
         "0.0"
        ],
        [
         "4",
         "val",
         "disgust",
         "image0034488.jpg",
         "./Data/AffectNet/Test/disgust/image0034488.jpg",
         "True",
         null,
         null,
         null,
         "0.0",
         "0.0",
         "1.0",
         "0.0",
         "0.0",
         "0.0",
         "0.0",
         "0.0"
        ]
       ],
       "shape": {
        "columns": 16,
        "rows": 5
       }
      },
      "text/html": [
       "<div>\n",
       "<style scoped>\n",
       "    .dataframe tbody tr th:only-of-type {\n",
       "        vertical-align: middle;\n",
       "    }\n",
       "\n",
       "    .dataframe tbody tr th {\n",
       "        vertical-align: top;\n",
       "    }\n",
       "\n",
       "    .dataframe thead th {\n",
       "        text-align: right;\n",
       "    }\n",
       "</style>\n",
       "<table border=\"1\" class=\"dataframe\">\n",
       "  <thead>\n",
       "    <tr style=\"text-align: right;\">\n",
       "      <th></th>\n",
       "      <th>phase</th>\n",
       "      <th>category</th>\n",
       "      <th>filename</th>\n",
       "      <th>img_path</th>\n",
       "      <th>exists</th>\n",
       "      <th>annot_A</th>\n",
       "      <th>annot_B</th>\n",
       "      <th>annot_C</th>\n",
       "      <th>soft_anger</th>\n",
       "      <th>soft_contempt</th>\n",
       "      <th>soft_disgust</th>\n",
       "      <th>soft_fear</th>\n",
       "      <th>soft_happy</th>\n",
       "      <th>soft_neutral</th>\n",
       "      <th>soft_sad</th>\n",
       "      <th>soft_surprise</th>\n",
       "    </tr>\n",
       "  </thead>\n",
       "  <tbody>\n",
       "    <tr>\n",
       "      <th>0</th>\n",
       "      <td>val</td>\n",
       "      <td>disgust</td>\n",
       "      <td>image0030361.jpg</td>\n",
       "      <td>./Data/AffectNet/Test/disgust/image0030361.jpg</td>\n",
       "      <td>True</td>\n",
       "      <td>NaN</td>\n",
       "      <td>NaN</td>\n",
       "      <td>NaN</td>\n",
       "      <td>0.0</td>\n",
       "      <td>0.0</td>\n",
       "      <td>1.0</td>\n",
       "      <td>0.0</td>\n",
       "      <td>0.0</td>\n",
       "      <td>0.0</td>\n",
       "      <td>0.0</td>\n",
       "      <td>0.0</td>\n",
       "    </tr>\n",
       "    <tr>\n",
       "      <th>1</th>\n",
       "      <td>val</td>\n",
       "      <td>disgust</td>\n",
       "      <td>image0035046.jpg</td>\n",
       "      <td>./Data/AffectNet/Test/disgust/image0035046.jpg</td>\n",
       "      <td>True</td>\n",
       "      <td>NaN</td>\n",
       "      <td>NaN</td>\n",
       "      <td>NaN</td>\n",
       "      <td>0.0</td>\n",
       "      <td>0.0</td>\n",
       "      <td>1.0</td>\n",
       "      <td>0.0</td>\n",
       "      <td>0.0</td>\n",
       "      <td>0.0</td>\n",
       "      <td>0.0</td>\n",
       "      <td>0.0</td>\n",
       "    </tr>\n",
       "    <tr>\n",
       "      <th>2</th>\n",
       "      <td>val</td>\n",
       "      <td>disgust</td>\n",
       "      <td>image0020592.jpg</td>\n",
       "      <td>./Data/AffectNet/Test/disgust/image0020592.jpg</td>\n",
       "      <td>True</td>\n",
       "      <td>NaN</td>\n",
       "      <td>NaN</td>\n",
       "      <td>NaN</td>\n",
       "      <td>0.0</td>\n",
       "      <td>0.0</td>\n",
       "      <td>1.0</td>\n",
       "      <td>0.0</td>\n",
       "      <td>0.0</td>\n",
       "      <td>0.0</td>\n",
       "      <td>0.0</td>\n",
       "      <td>0.0</td>\n",
       "    </tr>\n",
       "    <tr>\n",
       "      <th>3</th>\n",
       "      <td>val</td>\n",
       "      <td>disgust</td>\n",
       "      <td>image0025565.jpg</td>\n",
       "      <td>./Data/AffectNet/Test/disgust/image0025565.jpg</td>\n",
       "      <td>True</td>\n",
       "      <td>NaN</td>\n",
       "      <td>NaN</td>\n",
       "      <td>NaN</td>\n",
       "      <td>0.0</td>\n",
       "      <td>0.0</td>\n",
       "      <td>1.0</td>\n",
       "      <td>0.0</td>\n",
       "      <td>0.0</td>\n",
       "      <td>0.0</td>\n",
       "      <td>0.0</td>\n",
       "      <td>0.0</td>\n",
       "    </tr>\n",
       "    <tr>\n",
       "      <th>4</th>\n",
       "      <td>val</td>\n",
       "      <td>disgust</td>\n",
       "      <td>image0034488.jpg</td>\n",
       "      <td>./Data/AffectNet/Test/disgust/image0034488.jpg</td>\n",
       "      <td>True</td>\n",
       "      <td>NaN</td>\n",
       "      <td>NaN</td>\n",
       "      <td>NaN</td>\n",
       "      <td>0.0</td>\n",
       "      <td>0.0</td>\n",
       "      <td>1.0</td>\n",
       "      <td>0.0</td>\n",
       "      <td>0.0</td>\n",
       "      <td>0.0</td>\n",
       "      <td>0.0</td>\n",
       "      <td>0.0</td>\n",
       "    </tr>\n",
       "  </tbody>\n",
       "</table>\n",
       "</div>"
      ],
      "text/plain": [
       "  phase category          filename  \\\n",
       "0   val  disgust  image0030361.jpg   \n",
       "1   val  disgust  image0035046.jpg   \n",
       "2   val  disgust  image0020592.jpg   \n",
       "3   val  disgust  image0025565.jpg   \n",
       "4   val  disgust  image0034488.jpg   \n",
       "\n",
       "                                         img_path  exists  annot_A  annot_B  \\\n",
       "0  ./Data/AffectNet/Test/disgust/image0030361.jpg    True      NaN      NaN   \n",
       "1  ./Data/AffectNet/Test/disgust/image0035046.jpg    True      NaN      NaN   \n",
       "2  ./Data/AffectNet/Test/disgust/image0020592.jpg    True      NaN      NaN   \n",
       "3  ./Data/AffectNet/Test/disgust/image0025565.jpg    True      NaN      NaN   \n",
       "4  ./Data/AffectNet/Test/disgust/image0034488.jpg    True      NaN      NaN   \n",
       "\n",
       "   annot_C  soft_anger  soft_contempt  soft_disgust  soft_fear  soft_happy  \\\n",
       "0      NaN         0.0            0.0           1.0        0.0         0.0   \n",
       "1      NaN         0.0            0.0           1.0        0.0         0.0   \n",
       "2      NaN         0.0            0.0           1.0        0.0         0.0   \n",
       "3      NaN         0.0            0.0           1.0        0.0         0.0   \n",
       "4      NaN         0.0            0.0           1.0        0.0         0.0   \n",
       "\n",
       "   soft_neutral  soft_sad  soft_surprise  \n",
       "0           0.0       0.0            0.0  \n",
       "1           0.0       0.0            0.0  \n",
       "2           0.0       0.0            0.0  \n",
       "3           0.0       0.0            0.0  \n",
       "4           0.0       0.0            0.0  "
      ]
     },
     "execution_count": 6,
     "metadata": {},
     "output_type": "execute_result"
    }
   ],
   "source": [
    "# 리스트를 DataFrame으로 변환\n",
    "df_general_val = pd.DataFrame(image_data_list)\n",
    "\n",
    "# 컬럼 순서 정의 (기존 파일과 동일하게)\n",
    "final_columns = [\n",
    "    'phase', 'category', 'filename', 'img_path', 'exists', \n",
    "    'annot_A', 'annot_B', 'annot_C'\n",
    "] + [f'soft_{cls}' for cls in backbone_classes]\n",
    "\n",
    "df_general_val = df_general_val[final_columns]\n",
    "\n",
    "# 결과 확인\n",
    "print(f\"생성된 DataFrame 형태: {df_general_val.shape}\")\n",
    "print(\"Category 분포:\")\n",
    "print(df_general_val['category'].value_counts())\n",
    "\n",
    "# 파일 저장\n",
    "output_filename = '07_general_val_set.csv'\n",
    "df_general_val.to_csv(output_filename, index=False)\n",
    "\n",
    "print(f\"{output_filename} 파일이 성공적으로 생성되었습니다.\")\n",
    "df_general_val.head()"
   ]
  }
 ],
 "metadata": {
  "kernelspec": {
   "display_name": ".venv",
   "language": "python",
   "name": "python3"
  },
  "language_info": {
   "codemirror_mode": {
    "name": "ipython",
    "version": 3
   },
   "file_extension": ".py",
   "mimetype": "text/x-python",
   "name": "python",
   "nbconvert_exporter": "python",
   "pygments_lexer": "ipython3",
   "version": "3.12.3"
  }
 },
 "nbformat": 4,
 "nbformat_minor": 4
}
