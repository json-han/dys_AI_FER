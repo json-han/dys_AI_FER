{
 "cells": [
  {
   "cell_type": "markdown",
   "metadata": {},
   "source": [
    "## Soft Label 분포 기반 데이터 재분할\n",
    "\n",
    "이 노트북은 `05_softlabel_dataset.csv` 파일을 읽어, soft label의 분포를 최대한 유지하면서 데이터를 Train, Validation, Test 세트로 다시 분할합니다.\n",
    "\n",
    "**분할 전략:**\n",
    "1. 각 이미지의 soft label 값들 중 최대값을 찾습니다.\n",
    "2. 최대값이 유일하면 해당 감정을, 최대값이 여러 개(동점)이면 조합된 감정(예: 'anger-sad')을 기준으로 삼습니다.\n",
    "3. 이 기준('stratify_key')의 분포를 train, val, test 세트에서 동일하게 유지하도록 계층적으로 샘플링합니다."
   ]
  },
  {
   "cell_type": "markdown",
   "metadata": {},
   "source": [
    "### 1. 라이브러리 및 데이터 로드"
   ]
  },
  {
   "cell_type": "code",
   "execution_count": 1,
   "metadata": {},
   "outputs": [
    {
     "name": "stdout",
     "output_type": "stream",
     "text": [
      "데이터 형태: (8394, 16)\n"
     ]
    },
    {
     "data": {
      "application/vnd.microsoft.datawrangler.viewer.v0+json": {
       "columns": [
        {
         "name": "index",
         "rawType": "int64",
         "type": "integer"
        },
        {
         "name": "phase",
         "rawType": "object",
         "type": "string"
        },
        {
         "name": "category",
         "rawType": "object",
         "type": "string"
        },
        {
         "name": "filename",
         "rawType": "object",
         "type": "string"
        },
        {
         "name": "img_path",
         "rawType": "object",
         "type": "string"
        },
        {
         "name": "exists",
         "rawType": "bool",
         "type": "boolean"
        },
        {
         "name": "annot_A",
         "rawType": "object",
         "type": "string"
        },
        {
         "name": "annot_B",
         "rawType": "object",
         "type": "string"
        },
        {
         "name": "annot_C",
         "rawType": "object",
         "type": "string"
        },
        {
         "name": "soft_anger",
         "rawType": "float64",
         "type": "float"
        },
        {
         "name": "soft_contempt",
         "rawType": "float64",
         "type": "float"
        },
        {
         "name": "soft_disgust",
         "rawType": "float64",
         "type": "float"
        },
        {
         "name": "soft_fear",
         "rawType": "float64",
         "type": "float"
        },
        {
         "name": "soft_happy",
         "rawType": "float64",
         "type": "float"
        },
        {
         "name": "soft_neutral",
         "rawType": "float64",
         "type": "float"
        },
        {
         "name": "soft_sad",
         "rawType": "float64",
         "type": "float"
        },
        {
         "name": "soft_surprise",
         "rawType": "float64",
         "type": "float"
        }
       ],
       "ref": "e5d24fc3-ca7f-4cf1-9fcf-c66a9fc1c9ff",
       "rows": [
        [
         "0",
         "train",
         "anger",
         "6oj439e3fbcc52759fb3093035b7c0ecc55c93543dae63ec1162f5f6bfc6e481l.jpg",
         "./Data/EST_data/img_train/anger/6oj439e3fbcc52759fb3093035b7c0ecc55c93543dae63ec1162f5f6bfc6e481l.jpg",
         "True",
         "분노",
         "분노",
         "분노",
         "0.5",
         "0.3",
         "0.2",
         "0.0",
         "0.0",
         "0.0",
         "0.0",
         "0.0"
        ],
        [
         "1",
         "train",
         "anger",
         "65rsfe402042f34319e10128c1ab9614e2f967690a64a0016f2c49ff33fe7sy3z.jpg",
         "./Data/EST_data/img_train/anger/65rsfe402042f34319e10128c1ab9614e2f967690a64a0016f2c49ff33fe7sy3z.jpg",
         "True",
         "분노",
         "분노",
         "분노",
         "0.5",
         "0.3",
         "0.2",
         "0.0",
         "0.0",
         "0.0",
         "0.0",
         "0.0"
        ],
        [
         "2",
         "train",
         "anger",
         "b1cbe34734870cc11c33334e02bea93ac3a3b061caab62c0df1c6b9c75430tquz.jpg",
         "./Data/EST_data/img_train/anger/b1cbe34734870cc11c33334e02bea93ac3a3b061caab62c0df1c6b9c75430tquz.jpg",
         "True",
         "상처",
         "불안",
         "슬픔",
         "0.0",
         "0.0",
         "0.0",
         "0.3333333333333333",
         "0.0",
         "0.0",
         "0.6666666666666666",
         "0.0"
        ],
        [
         "3",
         "train",
         "anger",
         "llfycc0aa29599cc63cace3610fdaaad3a99aab2ee38c9edb6c10966765bbwd5f.jpg",
         "./Data/EST_data/img_train/anger/llfycc0aa29599cc63cace3610fdaaad3a99aab2ee38c9edb6c10966765bbwd5f.jpg",
         "True",
         "분노",
         "분노",
         "분노",
         "0.5",
         "0.3",
         "0.2",
         "0.0",
         "0.0",
         "0.0",
         "0.0",
         "0.0"
        ],
        [
         "4",
         "train",
         "anger",
         "3hww73b70615461a7336d0383b53582f8bf804f6e0f30d64f36fb410038b82m2u.jpg",
         "./Data/EST_data/img_train/anger/3hww73b70615461a7336d0383b53582f8bf804f6e0f30d64f36fb410038b82m2u.jpg",
         "True",
         "기쁨",
         "분노",
         "분노",
         "0.3333333333333333",
         "0.1999999999999999",
         "0.1333333333333333",
         "0.0",
         "0.3333333333333333",
         "0.0",
         "0.0",
         "0.0"
        ]
       ],
       "shape": {
        "columns": 16,
        "rows": 5
       }
      },
      "text/html": [
       "<div>\n",
       "<style scoped>\n",
       "    .dataframe tbody tr th:only-of-type {\n",
       "        vertical-align: middle;\n",
       "    }\n",
       "\n",
       "    .dataframe tbody tr th {\n",
       "        vertical-align: top;\n",
       "    }\n",
       "\n",
       "    .dataframe thead th {\n",
       "        text-align: right;\n",
       "    }\n",
       "</style>\n",
       "<table border=\"1\" class=\"dataframe\">\n",
       "  <thead>\n",
       "    <tr style=\"text-align: right;\">\n",
       "      <th></th>\n",
       "      <th>phase</th>\n",
       "      <th>category</th>\n",
       "      <th>filename</th>\n",
       "      <th>img_path</th>\n",
       "      <th>exists</th>\n",
       "      <th>annot_A</th>\n",
       "      <th>annot_B</th>\n",
       "      <th>annot_C</th>\n",
       "      <th>soft_anger</th>\n",
       "      <th>soft_contempt</th>\n",
       "      <th>soft_disgust</th>\n",
       "      <th>soft_fear</th>\n",
       "      <th>soft_happy</th>\n",
       "      <th>soft_neutral</th>\n",
       "      <th>soft_sad</th>\n",
       "      <th>soft_surprise</th>\n",
       "    </tr>\n",
       "  </thead>\n",
       "  <tbody>\n",
       "    <tr>\n",
       "      <th>0</th>\n",
       "      <td>train</td>\n",
       "      <td>anger</td>\n",
       "      <td>6oj439e3fbcc52759fb3093035b7c0ecc55c93543dae63...</td>\n",
       "      <td>./Data/EST_data/img_train/anger/6oj439e3fbcc52...</td>\n",
       "      <td>True</td>\n",
       "      <td>분노</td>\n",
       "      <td>분노</td>\n",
       "      <td>분노</td>\n",
       "      <td>0.500000</td>\n",
       "      <td>0.3</td>\n",
       "      <td>0.200000</td>\n",
       "      <td>0.000000</td>\n",
       "      <td>0.000000</td>\n",
       "      <td>0.0</td>\n",
       "      <td>0.000000</td>\n",
       "      <td>0.0</td>\n",
       "    </tr>\n",
       "    <tr>\n",
       "      <th>1</th>\n",
       "      <td>train</td>\n",
       "      <td>anger</td>\n",
       "      <td>65rsfe402042f34319e10128c1ab9614e2f967690a64a0...</td>\n",
       "      <td>./Data/EST_data/img_train/anger/65rsfe402042f3...</td>\n",
       "      <td>True</td>\n",
       "      <td>분노</td>\n",
       "      <td>분노</td>\n",
       "      <td>분노</td>\n",
       "      <td>0.500000</td>\n",
       "      <td>0.3</td>\n",
       "      <td>0.200000</td>\n",
       "      <td>0.000000</td>\n",
       "      <td>0.000000</td>\n",
       "      <td>0.0</td>\n",
       "      <td>0.000000</td>\n",
       "      <td>0.0</td>\n",
       "    </tr>\n",
       "    <tr>\n",
       "      <th>2</th>\n",
       "      <td>train</td>\n",
       "      <td>anger</td>\n",
       "      <td>b1cbe34734870cc11c33334e02bea93ac3a3b061caab62...</td>\n",
       "      <td>./Data/EST_data/img_train/anger/b1cbe34734870c...</td>\n",
       "      <td>True</td>\n",
       "      <td>상처</td>\n",
       "      <td>불안</td>\n",
       "      <td>슬픔</td>\n",
       "      <td>0.000000</td>\n",
       "      <td>0.0</td>\n",
       "      <td>0.000000</td>\n",
       "      <td>0.333333</td>\n",
       "      <td>0.000000</td>\n",
       "      <td>0.0</td>\n",
       "      <td>0.666667</td>\n",
       "      <td>0.0</td>\n",
       "    </tr>\n",
       "    <tr>\n",
       "      <th>3</th>\n",
       "      <td>train</td>\n",
       "      <td>anger</td>\n",
       "      <td>llfycc0aa29599cc63cace3610fdaaad3a99aab2ee38c9...</td>\n",
       "      <td>./Data/EST_data/img_train/anger/llfycc0aa29599...</td>\n",
       "      <td>True</td>\n",
       "      <td>분노</td>\n",
       "      <td>분노</td>\n",
       "      <td>분노</td>\n",
       "      <td>0.500000</td>\n",
       "      <td>0.3</td>\n",
       "      <td>0.200000</td>\n",
       "      <td>0.000000</td>\n",
       "      <td>0.000000</td>\n",
       "      <td>0.0</td>\n",
       "      <td>0.000000</td>\n",
       "      <td>0.0</td>\n",
       "    </tr>\n",
       "    <tr>\n",
       "      <th>4</th>\n",
       "      <td>train</td>\n",
       "      <td>anger</td>\n",
       "      <td>3hww73b70615461a7336d0383b53582f8bf804f6e0f30d...</td>\n",
       "      <td>./Data/EST_data/img_train/anger/3hww73b7061546...</td>\n",
       "      <td>True</td>\n",
       "      <td>기쁨</td>\n",
       "      <td>분노</td>\n",
       "      <td>분노</td>\n",
       "      <td>0.333333</td>\n",
       "      <td>0.2</td>\n",
       "      <td>0.133333</td>\n",
       "      <td>0.000000</td>\n",
       "      <td>0.333333</td>\n",
       "      <td>0.0</td>\n",
       "      <td>0.000000</td>\n",
       "      <td>0.0</td>\n",
       "    </tr>\n",
       "  </tbody>\n",
       "</table>\n",
       "</div>"
      ],
      "text/plain": [
       "   phase category                                           filename  \\\n",
       "0  train    anger  6oj439e3fbcc52759fb3093035b7c0ecc55c93543dae63...   \n",
       "1  train    anger  65rsfe402042f34319e10128c1ab9614e2f967690a64a0...   \n",
       "2  train    anger  b1cbe34734870cc11c33334e02bea93ac3a3b061caab62...   \n",
       "3  train    anger  llfycc0aa29599cc63cace3610fdaaad3a99aab2ee38c9...   \n",
       "4  train    anger  3hww73b70615461a7336d0383b53582f8bf804f6e0f30d...   \n",
       "\n",
       "                                            img_path  exists annot_A annot_B  \\\n",
       "0  ./Data/EST_data/img_train/anger/6oj439e3fbcc52...    True      분노      분노   \n",
       "1  ./Data/EST_data/img_train/anger/65rsfe402042f3...    True      분노      분노   \n",
       "2  ./Data/EST_data/img_train/anger/b1cbe34734870c...    True      상처      불안   \n",
       "3  ./Data/EST_data/img_train/anger/llfycc0aa29599...    True      분노      분노   \n",
       "4  ./Data/EST_data/img_train/anger/3hww73b7061546...    True      기쁨      분노   \n",
       "\n",
       "  annot_C  soft_anger  soft_contempt  soft_disgust  soft_fear  soft_happy  \\\n",
       "0      분노    0.500000            0.3      0.200000   0.000000    0.000000   \n",
       "1      분노    0.500000            0.3      0.200000   0.000000    0.000000   \n",
       "2      슬픔    0.000000            0.0      0.000000   0.333333    0.000000   \n",
       "3      분노    0.500000            0.3      0.200000   0.000000    0.000000   \n",
       "4      분노    0.333333            0.2      0.133333   0.000000    0.333333   \n",
       "\n",
       "   soft_neutral  soft_sad  soft_surprise  \n",
       "0           0.0  0.000000            0.0  \n",
       "1           0.0  0.000000            0.0  \n",
       "2           0.0  0.666667            0.0  \n",
       "3           0.0  0.000000            0.0  \n",
       "4           0.0  0.000000            0.0  "
      ]
     },
     "execution_count": 1,
     "metadata": {},
     "output_type": "execute_result"
    }
   ],
   "source": [
    "import pandas as pd\n",
    "from sklearn.model_selection import train_test_split\n",
    "\n",
    "pd.set_option('display.max_rows', 100)\n",
    "\n",
    "# 데이터 파일 경로\n",
    "csv_path = './05_softlabel_dataset.csv'\n",
    "\n",
    "# 데이터 로드\n",
    "df = pd.read_csv(csv_path)\n",
    "\n",
    "print(f'데이터 형태: {df.shape}')\n",
    "df.head()"
   ]
  },
  {
   "cell_type": "markdown",
   "metadata": {},
   "source": [
    "### 2. 계층적 분할을 위한 키(Stratify Key) 생성 및 분포 확인\n",
    "\n",
    "Soft label 컬럼들에서 최대값을 가지는 감정(들)을 찾아 새로운 키를 생성합니다."
   ]
  },
  {
   "cell_type": "code",
   "execution_count": 22,
   "metadata": {},
   "outputs": [
    {
     "name": "stdout",
     "output_type": "stream",
     "text": [
      "Soft Label 컬럼: ['soft_anger', 'soft_contempt', 'soft_disgust', 'soft_fear', 'soft_happy', 'soft_neutral', 'soft_sad', 'soft_surprise']\n",
      "Stratify Key 원본 분포:\n",
      "stratify_key\n",
      "happy                 2148\n",
      "sad                   1957\n",
      "surprise              1414\n",
      "anger                 1139\n",
      "fear                   644\n",
      "neutral                274\n",
      "anger-fear             210\n",
      "anger-sad              205\n",
      "fear-sad               114\n",
      "fear-neutral-sad        81\n",
      "neutral-sad             59\n",
      "anger-neutral           53\n",
      "fear-neutral            27\n",
      "anger-happy             21\n",
      "happy-sad               11\n",
      "fear-happy-sad          11\n",
      "happy-neutral            9\n",
      "fear-happy-neutral       6\n",
      "happy-neutral-sad        6\n",
      "fear-happy               5\n",
      "Name: count, dtype: int64\n"
     ]
    }
   ],
   "source": [
    "# Soft label 컬럼 목록을 정의\n",
    "soft_label_columns = [col for col in df.columns if col.startswith('soft_')]\n",
    "print('Soft Label 컬럼:', soft_label_columns)\n",
    "\n",
    "def get_stratify_key(row):\n",
    "    '''한 행(row)을 입력받아 soft label의 최대값에 해당하는 키를 반환하는 함수'''\n",
    "    # soft label 값들만 추출\n",
    "    soft_labels = row[soft_label_columns]\n",
    "    # 최대값 찾기\n",
    "    max_value = soft_labels.max()\n",
    "    \n",
    "    # 최대값을 가진 컬럼(감정)들을 찾기\n",
    "    max_labels = soft_labels[soft_labels == max_value].index.tolist()\n",
    "    \n",
    "    # 컬럼명에서 'soft_' 접두사 제거 및 알파벳순 정렬\n",
    "    cleaned_labels = sorted([label.replace('soft_', '') for label in max_labels])\n",
    "    \n",
    "    # 하이픈(-)으로 연결하여 최종 키 생성\n",
    "    return '-'.join(cleaned_labels)\n",
    "\n",
    "# 모든 행에 함수를 적용하여 'stratify_key' 컬럼 생성\n",
    "df['stratify_key'] = df.apply(get_stratify_key, axis=1)\n",
    "\n",
    "key_distribution = df['stratify_key'].value_counts()\n",
    "print('Stratify Key 원본 분포:')\n",
    "print(key_distribution)"
   ]
  },
  {
   "cell_type": "markdown",
   "metadata": {},
   "source": [
    "### 3. 희귀 클래스 식별 및 Train / Validation / Test 분리\n",
    "\n",
    "분할 후 temp_df에 1개만 남을 가능성이 있는 희귀 키를 식별합니다.\n",
    "test_size=0.2를 곱했을 때 결과가 1이 될 가능성이 있는 클래스들입니다.\n",
    "즉, 전체 샘플 수가 5~10개인 경우 (5~10 * 0.2 = 1~2) 입니다."
   ]
  },
  {
   "cell_type": "code",
   "execution_count": 24,
   "metadata": {},
   "outputs": [
    {
     "name": "stdout",
     "output_type": "stream",
     "text": [
      "분할 시 1개가 될 가능성이 있는 희귀 키: ['happy-neutral', 'fear-happy-neutral', 'happy-neutral-sad', 'fear-happy']\n",
      "메인 데이터셋 크기: 8368, 희귀 데이터셋 크기: 26\n"
     ]
    }
   ],
   "source": [
    "# 분할 후 temp_df에 1개만 남을 가능성이 있는 희귀 키를 식별\n",
    "rare_keys_for_split_issue = key_distribution[key_distribution < 10].index.tolist()\n",
    "print(f\"분할 시 1개가 될 가능성이 있는 희귀 키: {rare_keys_for_split_issue}\")\n",
    "\n",
    "# 희귀 키와 나머지 데이터를 분리\n",
    "df_rare = df[df['stratify_key'].isin(rare_keys_for_split_issue)]\n",
    "df_main = df[~df['stratify_key'].isin(rare_keys_for_split_issue)]\n",
    "print(f\"메인 데이터셋 크기: {len(df_main)}, 희귀 데이터셋 크기: {len(df_rare)}\")"
   ]
  },
  {
   "cell_type": "code",
   "execution_count": 36,
   "metadata": {},
   "outputs": [
    {
     "name": "stdout",
     "output_type": "stream",
     "text": [
      "희귀 데이터셋을 train_df에 통합했습니다. 최종 train 세트 크기: 6720\n",
      "\n",
      "전체 데이터: 8394개\n",
      "Train 세트: 6720개\n",
      "Validation 세트: 837개\n",
      "Test 세트: 837개\n",
      "\n",
      "데이터 세트별 'stratify_key' 감정 분포:\n",
      "| stratify_key       |   Train |   Val |   Test |   Train (Norm) |   Val (Norm) |   Test (Norm) |\n",
      "|:-------------------|--------:|------:|-------:|---------------:|-------------:|--------------:|\n",
      "| happy              |    1718 |   215 |    215 |    0.255655    |   0.25687    |    0.25687    |\n",
      "| sad                |    1566 |   196 |    195 |    0.233036    |   0.23417    |    0.232975   |\n",
      "| surprise           |    1131 |   141 |    142 |    0.168304    |   0.168459   |    0.169654   |\n",
      "| anger              |     911 |   114 |    114 |    0.135565    |   0.136201   |    0.136201   |\n",
      "| fear               |     515 |    64 |     65 |    0.0766369   |   0.0764636  |    0.0776583  |\n",
      "| neutral            |     219 |    28 |     27 |    0.0325893   |   0.0334528  |    0.0322581  |\n",
      "| anger-fear         |     168 |    21 |     21 |    0.025       |   0.0250896  |    0.0250896  |\n",
      "| anger-sad          |     164 |    21 |     20 |    0.0244048   |   0.0250896  |    0.0238949  |\n",
      "| fear-sad           |      91 |    11 |     12 |    0.0135417   |   0.0131422  |    0.0143369  |\n",
      "| fear-neutral-sad   |      65 |     8 |      8 |    0.00967262  |   0.00955795 |    0.00955795 |\n",
      "| neutral-sad        |      47 |     6 |      6 |    0.00699405  |   0.00716846 |    0.00716846 |\n",
      "| anger-neutral      |      42 |     6 |      5 |    0.00625     |   0.00716846 |    0.00597372 |\n",
      "| fear-neutral       |      22 |     2 |      3 |    0.00327381  |   0.00238949 |    0.00358423 |\n",
      "| anger-happy        |      17 |     2 |      2 |    0.00252976  |   0.00238949 |    0.00238949 |\n",
      "| happy-sad          |       9 |     1 |      1 |    0.00133929  |   0.00119474 |    0.00119474 |\n",
      "| fear-happy-sad     |       9 |     1 |      1 |    0.00133929  |   0.00119474 |    0.00119474 |\n",
      "| happy-neutral      |       9 |     0 |      0 |    0.00133929  |   0          |    0          |\n",
      "| fear-happy-neutral |       6 |     0 |      0 |    0.000892857 |   0          |    0          |\n",
      "| happy-neutral-sad  |       6 |     0 |      0 |    0.000892857 |   0          |    0          |\n",
      "| fear-happy         |       5 |     0 |      0 |    0.000744048 |   0          |    0          |\n"
     ]
    }
   ],
   "source": [
    "# 메인 데이터셋을 먼저 분리\n",
    "X = df_main.drop('stratify_key', axis=1)\n",
    "y = df_main['stratify_key']\n",
    "\n",
    "train_df, temp_df = train_test_split(\n",
    "    df_main, \n",
    "    test_size=(0.2), \n",
    "    random_state=42, \n",
    "    stratify=y\n",
    ")\n",
    "\n",
    "# 희귀 데이터셋을 train_df에 합침\n",
    "# 희귀 키를 train에 통합하여 안정적인 분할을 보장하고, 모델이 희귀 데이터로 학습할 기회를 제공\n",
    "# 학습 기회를 제공하나, 전체 성능 지표를 왜곡할 수 있는 검증/테스트 과정에서는 제외, 모델의 핵심 성능을 더 객관적으로 측정\n",
    "# 모든 데이터를 평가에 사용해야 한다는 원칙을 일부 양보하는 대신, 서비스의 주요 감정(happy, sad, anger 등)에 대한 모델의 성능을 최우선으로 확보\n",
    "train_df = pd.concat([train_df, df_rare])\n",
    "print(f\"희귀 데이터셋을 train_df에 통합했습니다. 최종 train 세트 크기: {len(train_df)}\")\n",
    "\n",
    "# temp 세트를 val / test 세트로 분리\n",
    "val_df, test_df = train_test_split(\n",
    "    temp_df, \n",
    "    test_size=0.5,\n",
    "    random_state=42, \n",
    "    stratify=temp_df['stratify_key']\n",
    ")\n",
    "\n",
    "print(f'\\n전체 데이터: {len(df)}개')\n",
    "print(f'Train 세트: {len(train_df)}개')\n",
    "print(f'Validation 세트: {len(val_df)}개')\n",
    "print(f'Test 세트: {len(test_df)}개')\n",
    "\n",
    "# 분할된 세트의 'stratify_key' 분포 확인\n",
    "train_distribution = train_df['stratify_key'].value_counts()\n",
    "train_distribution_norm = train_df['stratify_key'].value_counts(normalize=True)\n",
    "\n",
    "val_distribution = val_df['stratify_key'].value_counts()\n",
    "val_distribution_norm = val_df['stratify_key'].value_counts(normalize=True)\n",
    "\n",
    "test_distribution = test_df['stratify_key'].value_counts()\n",
    "test_distribution_norm = test_df['stratify_key'].value_counts(normalize=True)\n",
    "\n",
    "# 결측값(NaN)은 0으로 채우고, 인덱스(감정)를 기준으로 정렬\n",
    "distribution_df = pd.concat(\n",
    "    [train_distribution, val_distribution, test_distribution, train_distribution_norm, val_distribution_norm, test_distribution_norm],\n",
    "    axis=1,\n",
    "    keys=['Train', 'Val', 'Test', 'Train (Norm)', 'Val (Norm)', 'Test (Norm)']\n",
    ").fillna(0).astype(float)\n",
    "\n",
    "# 표를 보기 좋게 출력\n",
    "print(\"\\n데이터 세트별 'stratify_key' 감정 분포:\")\n",
    "print(distribution_df.to_markdown())"
   ]
  },
  {
   "cell_type": "markdown",
   "metadata": {},
   "source": [
    "### 6. 저장"
   ]
  },
  {
   "cell_type": "code",
   "execution_count": 40,
   "metadata": {},
   "outputs": [
    {
     "name": "stdout",
     "output_type": "stream",
     "text": [
      "분할 결과가 06_softlabel_dataset_resplit.csv 파일로 저장되었습니다.\n"
     ]
    },
    {
     "data": {
      "application/vnd.microsoft.datawrangler.viewer.v0+json": {
       "columns": [
        {
         "name": "index",
         "rawType": "int64",
         "type": "integer"
        },
        {
         "name": "filename",
         "rawType": "object",
         "type": "string"
        },
        {
         "name": "phase",
         "rawType": "object",
         "type": "string"
        },
        {
         "name": "stratify_key",
         "rawType": "object",
         "type": "string"
        }
       ],
       "ref": "bc929b09-39de-4be9-a021-84d93fe31847",
       "rows": [
        [
         "0",
         "6oj439e3fbcc52759fb3093035b7c0ecc55c93543dae63ec1162f5f6bfc6e481l.jpg",
         "train",
         "anger"
        ],
        [
         "1",
         "65rsfe402042f34319e10128c1ab9614e2f967690a64a0016f2c49ff33fe7sy3z.jpg",
         "test",
         "anger"
        ],
        [
         "2",
         "b1cbe34734870cc11c33334e02bea93ac3a3b061caab62c0df1c6b9c75430tquz.jpg",
         "train",
         "sad"
        ],
        [
         "3",
         "llfycc0aa29599cc63cace3610fdaaad3a99aab2ee38c9edb6c10966765bbwd5f.jpg",
         "train",
         "anger"
        ],
        [
         "4",
         "3hww73b70615461a7336d0383b53582f8bf804f6e0f30d64f36fb410038b82m2u.jpg",
         "train",
         "anger-happy"
        ]
       ],
       "shape": {
        "columns": 3,
        "rows": 5
       }
      },
      "text/html": [
       "<div>\n",
       "<style scoped>\n",
       "    .dataframe tbody tr th:only-of-type {\n",
       "        vertical-align: middle;\n",
       "    }\n",
       "\n",
       "    .dataframe tbody tr th {\n",
       "        vertical-align: top;\n",
       "    }\n",
       "\n",
       "    .dataframe thead th {\n",
       "        text-align: right;\n",
       "    }\n",
       "</style>\n",
       "<table border=\"1\" class=\"dataframe\">\n",
       "  <thead>\n",
       "    <tr style=\"text-align: right;\">\n",
       "      <th></th>\n",
       "      <th>filename</th>\n",
       "      <th>phase</th>\n",
       "      <th>stratify_key</th>\n",
       "    </tr>\n",
       "  </thead>\n",
       "  <tbody>\n",
       "    <tr>\n",
       "      <th>0</th>\n",
       "      <td>6oj439e3fbcc52759fb3093035b7c0ecc55c93543dae63...</td>\n",
       "      <td>train</td>\n",
       "      <td>anger</td>\n",
       "    </tr>\n",
       "    <tr>\n",
       "      <th>1</th>\n",
       "      <td>65rsfe402042f34319e10128c1ab9614e2f967690a64a0...</td>\n",
       "      <td>test</td>\n",
       "      <td>anger</td>\n",
       "    </tr>\n",
       "    <tr>\n",
       "      <th>2</th>\n",
       "      <td>b1cbe34734870cc11c33334e02bea93ac3a3b061caab62...</td>\n",
       "      <td>train</td>\n",
       "      <td>sad</td>\n",
       "    </tr>\n",
       "    <tr>\n",
       "      <th>3</th>\n",
       "      <td>llfycc0aa29599cc63cace3610fdaaad3a99aab2ee38c9...</td>\n",
       "      <td>train</td>\n",
       "      <td>anger</td>\n",
       "    </tr>\n",
       "    <tr>\n",
       "      <th>4</th>\n",
       "      <td>3hww73b70615461a7336d0383b53582f8bf804f6e0f30d...</td>\n",
       "      <td>train</td>\n",
       "      <td>anger-happy</td>\n",
       "    </tr>\n",
       "  </tbody>\n",
       "</table>\n",
       "</div>"
      ],
      "text/plain": [
       "                                            filename  phase stratify_key\n",
       "0  6oj439e3fbcc52759fb3093035b7c0ecc55c93543dae63...  train        anger\n",
       "1  65rsfe402042f34319e10128c1ab9614e2f967690a64a0...   test        anger\n",
       "2  b1cbe34734870cc11c33334e02bea93ac3a3b061caab62...  train          sad\n",
       "3  llfycc0aa29599cc63cace3610fdaaad3a99aab2ee38c9...  train        anger\n",
       "4  3hww73b70615461a7336d0383b53582f8bf804f6e0f30d...  train  anger-happy"
      ]
     },
     "execution_count": 40,
     "metadata": {},
     "output_type": "execute_result"
    }
   ],
   "source": [
    "# 원본 DataFrame에 새로운 phase 할당\n",
    "df.loc[train_df.index, 'new_phase'] = 'train'\n",
    "df.loc[val_df.index, 'new_phase'] = 'val'\n",
    "df.loc[test_df.index, 'new_phase'] = 'test'\n",
    "\n",
    "# 'new_phase'로 'phase' 덮어쓰기\n",
    "df['phase'] = df['new_phase']\n",
    "\n",
    "# 'new_phase' 컬럼 삭제\n",
    "df.drop(columns=['new_phase'], inplace=True)\n",
    "\n",
    "# 결과 저장\n",
    "output_filename = '06_softlabel_dataset_resplit.csv'\n",
    "df.to_csv(output_filename, index=False)\n",
    "\n",
    "print(f'분할 결과가 {output_filename} 파일로 저장되었습니다.')\n",
    "df[['filename', 'phase', 'stratify_key']].head()"
   ]
  }
 ],
 "metadata": {
  "kernelspec": {
   "display_name": ".venv",
   "language": "python",
   "name": "python3"
  },
  "language_info": {
   "codemirror_mode": {
    "name": "ipython",
    "version": 3
   },
   "file_extension": ".py",
   "mimetype": "text/x-python",
   "name": "python",
   "nbconvert_exporter": "python",
   "pygments_lexer": "ipython3",
   "version": "3.12.3"
  }
 },
 "nbformat": 4,
 "nbformat_minor": 4
}
