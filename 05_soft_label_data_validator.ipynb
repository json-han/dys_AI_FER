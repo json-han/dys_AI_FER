{
 "cells": [
  {
   "cell_type": "code",
   "execution_count": 1,
   "metadata": {},
   "outputs": [],
   "source": [
    "# Cell 1: 라이브러리 임포트 및 설정\n",
    "import pandas as pd\n",
    "import numpy as np\n",
    "from est_utils import BACKBONE_CLASSES\n",
    "\n",
    "INPUT_CSV_PATH = '04_softlabel_dataset.csv'\n",
    "soft_label_cols = [f'soft_{cls}' for cls in BACKBONE_CLASSES]\n",
    "epsilon = 1e-6 # 부동 소수점 비교를 위한 작은 값"
   ]
  },
  {
   "cell_type": "code",
   "execution_count": 2,
   "metadata": {},
   "outputs": [
    {
     "name": "stdout",
     "output_type": "stream",
     "text": [
      "데이터 로드 성공: 04_softlabel_dataset.csv, 8394 행\n"
     ]
    }
   ],
   "source": [
    "# Cell 2: 데이터 로드\n",
    "try:\n",
    "    df_softlabel = pd.read_csv(INPUT_CSV_PATH)\n",
    "    print(f\"데이터 로드 성공: {INPUT_CSV_PATH}, {len(df_softlabel)} 행\")\n",
    "except FileNotFoundError:\n",
    "    print(f\"오류: {INPUT_CSV_PATH} 파일을 찾을 수 없습니다. 04_soft_labeling_processor.ipynb를 먼저 실행하여 파일을 생성하세요.\");\n",
    "    df_softlabel = pd.DataFrame() # 빈 데이터프레임으로 초기화\n",
    "except Exception as e:\n",
    "    print(f\"데이터 로드 중 오류 발생: {e}\")\n",
    "    df_softlabel = pd.DataFrame()"
   ]
  },
  {
   "cell_type": "code",
   "execution_count": 3,
   "metadata": {},
   "outputs": [
    {
     "name": "stdout",
     "output_type": "stream",
     "text": [
      "--- 소프트 레이블 데이터 유효성 검사 시작 ---\n",
      "검사 1 통과: 모든 소프트 레이블 합계가 1.0에 가깝습니다.\n",
      "검사 2 통과: 소프트 레이블에 음수 값이 없습니다.\n",
      "검사 3 통과: 소프트 레이블에 결측값이 없습니다.\n",
      "검사 4 통과: 'filename' 및 'img_path'에 결측값이 없습니다.\n",
      "'exists' 컬럼 분포 (실제 이미지 파일 존재 여부):\n",
      "exists\n",
      "True    8394\n",
      "Name: count, dtype: int64\n",
      "--- 소프트 레이블 데이터 유효성 검사 완료 ---\n"
     ]
    }
   ],
   "source": [
    "# Cell 3: 유효성 검사\n",
    "if not df_softlabel.empty:\n",
    "    print(\"--- 소프트 레이블 데이터 유효성 검사 시작 ---\")\n",
    "\n",
    "    # 검사 1: 소프트 레이블 합계가 1.0인지 확인\n",
    "    sum_soft_labels = df_softlabel[soft_label_cols].sum(axis=1)\n",
    "    deviation = (sum_soft_labels - 1.0).abs()\n",
    "    if (deviation > epsilon).any():\n",
    "        print(f\"경고: 소프트 레이블 합계가 1.0이 아닌 행이 {deviation[deviation > epsilon].count()}개 발견되었습니다.\");\n",
    "        print(deviation[deviation > epsilon].head())\n",
    "    else:\n",
    "        print(\"검사 1 통과: 모든 소프트 레이블 합계가 1.0에 가깝습니다.\")\n",
    "\n",
    "    # 검사 2: 음수 값 없음 확인\n",
    "    if (df_softlabel[soft_label_cols] < 0).any().any():\n",
    "        print(\"오류: 소프트 레이블에 음수 값이 발견되었습니다.\")\n",
    "    else:\n",
    "        print(\"검사 2 통과: 소프트 레이블에 음수 값이 없습니다.\")\n",
    "\n",
    "    # 검사 3: 결측값(NaN) 없음 확인\n",
    "    if df_softlabel[soft_label_cols].isnull().any().any():\n",
    "        print(\"오류: 소프트 레이블에 결측값(NaN)이 발견되었습니다.\")\n",
    "        print(df_softlabel[soft_label_cols].isnull().sum())\n",
    "    else:\n",
    "        print(\"검사 3 통과: 소프트 레이블에 결측값이 없습니다.\")\n",
    "\n",
    "    # 검사 4: filename 및 img_path 결측값 확인\n",
    "    if df_softlabel[['filename', 'img_path']].isnull().any().any():\n",
    "        print(\"경고: 'filename' 또는 'img_path'에 결측값이 발견되었습니다.\")\n",
    "        print(df_softlabel[['filename', 'img_path']].isnull().sum())\n",
    "    else:\n",
    "        print(\"검사 4 통과: 'filename' 및 'img_path'에 결측값이 없습니다.\")\n",
    "\n",
    "    # 검사 5: 'exists' 컬럼 분포 확인 (실제 파일 존재 여부)\n",
    "    print(\"'exists' 컬럼 분포 (실제 이미지 파일 존재 여부):\")\n",
    "    print(df_softlabel['exists'].value_counts())\n",
    "    if not df_softlabel['exists'].all():\n",
    "        print(\"경고: 일부 이미지 파일이 실제로 존재하지 않습니다. (exists=False)\")\n",
    "\n",
    "    print(\"--- 소프트 레이블 데이터 유효성 검사 완료 ---\")\n",
    "else:\n",
    "    print(\"데이터프레임이 비어있어 유효성 검사를 수행할 수 없습니다.\")"
   ]
  }
 ],
 "metadata": {
  "kernelspec": {
   "display_name": ".venv",
   "language": "python",
   "name": "python3"
  },
  "language_info": {
   "codemirror_mode": {
    "name": "ipython",
    "version": 3
   },
   "file_extension": ".py",
   "mimetype": "text/x-python",
   "name": "python",
   "nbconvert_exporter": "python",
   "pygments_lexer": "ipython3",
   "version": "3.12.3"
  }
 },
 "nbformat": 4,
 "nbformat_minor": 5
}
