{
 "cells": [
  {
   "cell_type": "code",
   "metadata": {},
   "outputs": [],
   "source": [
    "# Cell 1: 라이브러리 임포트 및 설정\n",
    "import mlflow\n",
    "import pandas as pd\n",
    "import matplotlib.pyplot as plt\n",
    "import seaborn as sns\n",
    "from est_utils import FONT_PROP, BACKBONE_CLASSES\n",
    "\n",
    "# MLflow 트래킹 서버 URI 설정\n",
    "mlflow.set_tracking_uri(\"http://0.0.0.0:5000\")\n",
    "\n",
    "# 분석할 MLflow Experiment 이름 또는 ID\n",
    "EXPERIMENT_NAME = \"FER Fine-tuning with Soft Labels\"\n",
    "\n",
    "# 분석할 Run ID 목록 (예시: 여러 훈련 실행을 비교할 경우)\n",
    "# run_ids = [\"run_id_1\", \"run_id_2\"]\n",
    "# 단일 Run을 분석할 경우:\n",
    "TARGET_RUN_ID = \"c88cb1374eed41dc9d164a91a5f4e956\" # 여기에 분석하고자 하는 run_id를 입력하세요.\n",
    "\n",
    "# 지표 및 아티팩트 이름\n",
    "METRICS_TO_ANALYZE = [\"train_loss\", \"val_loss\", \"general_val_loss\", \"general_val_accuracy\", \"test_accuracy\", \"test_f1_macro\"]\n",
    "ARTIFACT_NAME = \"08_test_confusion_matrix.png\" # 08_finetuning_refactored.py에서 저장된 혼동 행렬 이미지 이름"
   ]
  },
  {
   "cell_type": "code",
   "metadata": {},
   "outputs": [],
   "source": [
    "# Cell 2: MLflow Run 정보 및 지표 가져오기\n",
    "def get_run_metrics(run_id, metrics_list):\n",
    "    client = mlflow.tracking.MlflowClient()\n",
    "    run = client.get_run(run_id)\n",
    "    metrics = {metric: run.data.metrics.get(metric) for metric in metrics_list}\n",
    "    params = run.data.params\n",
    "    return metrics, params, run.info.run_name\n",
    "\n",
    "# 단일 Run 분석 예시\n",
    "if TARGET_RUN_ID:\n",
    "    metrics, params, run_name = get_run_metrics(TARGET_RUN_ID, METRICS_TO_ANALYZE)\n",
    "    print(f\"\n--- Analysis for Run: {run_name} ({TARGET_RUN_ID}) ---\"\n",
    "    print(\"Parameters:\")\n",
    "    for k, v in params.items():\n",
    "        print(f\"  {k}: {v}\")\n",
    "    print(\"Metrics:\")\n",
    "    for k, v in metrics.items():\n",
    "        print(f\"  {k}: {v:.4f}\")\n",
    "\n",
    "    # 시계열 지표 가져오기 (예: 에포크별 손실)\n",
    "    client = mlflow.tracking.MlflowClient()\n",
    "    history_metrics = client.get_metric_history(TARGET_RUN_ID, \"val_loss\") # 예시: val_loss 시계열\n",
    "    if history_metrics:\n",
    "        epochs = [m.step for m in history_metrics]\n",
    "        val_losses = [m.value for m in history_metrics]\n",
    "        plt.figure(figsize=(10, 6))\n",
    "        plt.plot(epochs, val_losses, marker='o')\n",
    "        plt.title(f'Validation Loss History for {run_name}', fontproperties=FONT_PROP)\n",
    "        plt.xlabel('Epoch', fontproperties=FONT_PROP)\n",
    "        plt.ylabel('Validation Loss', fontproperties=FONT_PROP)\n",
    "        plt.grid(True)\n",
    "        plt.show()\n",
    "\n",
    "    # 아티팩트 다운로드 및 표시 (예: 혼동 행렬 이미지)\n",
    "    try:\n",
    "        artifact_path = client.download_artifacts(TARGET_RUN_ID, ARTIFACT_NAME)\n",
    "        print(f\"Artifact downloaded to: {artifact_path}\")\n",
    "        img = plt.imread(artifact_path)\n",
    "        plt.figure(figsize=(8, 8))\n",
    "        plt.imshow(img)\n",
    "        plt.axis('off')\n",
    "        plt.title(f'Confusion Matrix for {run_name}', fontproperties=FONT_PROP)\n",
    "        plt.show()\n",
    "    except Exception as e:\n",
    "        print(f\"Error downloading or displaying artifact {ARTIFACT_NAME}: {e}\")\n",
    "else:\n",
    "    print(\"분석할 TARGET_RUN_ID를 설정해 주세요.\")"
   ]
  }
 ],
 "metadata": {
  "kernelspec": {
   "display_name": "Python 3",
   "language": "python",
   "name": "python3"
  },
  "language_info": {
   "codemirror_mode": {
    "name": "ipython",
    "version": 3
   },
   "file_extension": ".py",
   "mimetype": "text/x-python",
   "name": "python",
   "nbconvert_exporter": "python",
   "pygments_lexer": "ipython3",
   "version": "3.11.13"
  }
 },
 "nbformat": 4,
 "nbformat_minor": 5
}