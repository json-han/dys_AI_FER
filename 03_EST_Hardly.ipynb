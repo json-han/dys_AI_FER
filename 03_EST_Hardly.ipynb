{
 "cells": [
  {
   "cell_type": "code",
   "execution_count": 14,
   "id": "59a65e33",
   "metadata": {},
   "outputs": [
    {
     "name": "stdout",
     "output_type": "stream",
     "text": [
      "train_prediction_results.csv: 966 images with matching labels\n",
      "val_prediction_results.csv: 201 images with matching labels\n",
      "test_prediction_results.csv: 191 images with matching labels\n"
     ]
    }
   ],
   "source": [
    "import pandas as pd\n",
    "\n",
    "def count_matching_labels(csv_path):\n",
    "    df = pd.read_csv(csv_path)\n",
    "    # 'sadness'와 'sad'를 같은 것으로 간주\n",
    "    match = (df['true_label'] == df['predicted_label']) | ((df['true_label'] == 'sadness') & (df['predicted_label'] == 'sad'))\n",
    "    return match.sum()\n",
    "\n",
    "csv_files = [\n",
    "    'train_prediction_results.csv',\n",
    "    'val_prediction_results.csv',\n",
    "    'test_prediction_results.csv'\n",
    "]\n",
    "\n",
    "for csv_file in csv_files:\n",
    "    count = count_matching_labels(csv_file)\n",
    "    print(f\"{csv_file}: {count} images with matching labels\")"
   ]
  },
  {
   "cell_type": "code",
   "execution_count": null,
   "id": "b1bfa90d",
   "metadata": {},
   "outputs": [],
   "source": [
    "dfs = [pd.read_csv(f) for f in csv_files]\n",
    "merged_df = pd.concat(dfs, ignore_index=True)"
   ]
  },
  {
   "cell_type": "code",
   "execution_count": 3,
   "id": "51c561fb",
   "metadata": {},
   "outputs": [
    {
     "data": {
      "application/vnd.microsoft.datawrangler.viewer.v0+json": {
       "columns": [
        {
         "name": "index",
         "rawType": "int64",
         "type": "integer"
        },
        {
         "name": "image_path",
         "rawType": "object",
         "type": "string"
        },
        {
         "name": "true_label",
         "rawType": "object",
         "type": "string"
        },
        {
         "name": "predicted_label",
         "rawType": "object",
         "type": "string"
        }
       ],
       "ref": "4f7bcaec-3c75-43d2-8a39-53ae682150d9",
       "rows": [
        [
         "0",
         "/workspace/Data/EST_data2/img_train/anger/zzfs153e94109c926e57ec459131cc6db5934544ee63c625589a595b55ca0zuee.jpg",
         "anger",
         "surprise"
        ],
        [
         "1",
         "/workspace/Data/EST_data2/img_train/anger/zyct94aba1ee0d1e6292f6f56ecdba6d29a5b6e1ca43b6ab9a9b1fa1fc7a2lv51.jpg",
         "anger",
         "neutral"
        ],
        [
         "2",
         "/workspace/Data/EST_data2/img_train/anger/zybhf86ef77e020261b33724557a6f881876051e2e67898514564afe84e019f81.jpg",
         "anger",
         "neutral"
        ],
        [
         "3",
         "/workspace/Data/EST_data2/img_train/anger/zy326c174c014be2ded498c447f94dc091ff4fd0c142ddc5b7efe9703300ccp2v.jpg",
         "anger",
         "neutral"
        ],
        [
         "4",
         "/workspace/Data/EST_data2/img_train/anger/zx1z7a73d6976eee78347847db5180b094fe70e7aa0920ed29b54189936daz9f0.jpg",
         "anger",
         "neutral"
        ],
        [
         "5",
         "/workspace/Data/EST_data2/img_train/anger/zuop308009c097e9559a5a3797f527ad200d089f357f21a062979afaff7a32v5t.jpg",
         "anger",
         "surprise"
        ],
        [
         "6",
         "/workspace/Data/EST_data2/img_train/anger/zujf9901a13d102798fd52f7c466153fd9ffaf12819366e848256228f7d837kk3.jpg",
         "anger",
         "neutral"
        ],
        [
         "7",
         "/workspace/Data/EST_data2/img_train/anger/zubt9c05e6bf3beb5007567b1606b637fefe73f3413055905ca1ab35aa4556zqw.jpg",
         "anger",
         "neutral"
        ],
        [
         "8",
         "/workspace/Data/EST_data2/img_train/anger/zt5d585ada0cafd08e36ac2baac2fb52a7a207a479e2a2f469268e50f54eanct1.jpg",
         "anger",
         "neutral"
        ],
        [
         "9",
         "/workspace/Data/EST_data2/img_train/anger/zt30b5b20f02b3e60ecb529b22dc02f649c0208ec8b60ebe8eb2e2d22ef399txf.jpg",
         "anger",
         "neutral"
        ],
        [
         "10",
         "/workspace/Data/EST_data2/img_train/anger/zslt561a3a76d117db1576bd7c8d86a3b41dda1d1d231933d79d3b79b12acud03.jpg",
         "anger",
         "happy"
        ],
        [
         "11",
         "/workspace/Data/EST_data2/img_train/anger/zsed57889a20b0d196f9bbbacb95d2495290b0c6e25f49158a8b2bfd4219731k7.jpg",
         "anger",
         "neutral"
        ],
        [
         "12",
         "/workspace/Data/EST_data2/img_train/anger/zsbk207d49722ed27a51d242f6ef822f0e78da2c508e36c5720a46ee612e2eymp.jpg",
         "anger",
         "neutral"
        ],
        [
         "13",
         "/workspace/Data/EST_data2/img_train/anger/zs9sbb5db496d7a437d0635d3e1d49d40d43bd0fcf3e524b11554b757d6d1cevo.jpg",
         "anger",
         "surprise"
        ],
        [
         "14",
         "/workspace/Data/EST_data2/img_train/anger/zs55f5e43f5698feb9aac9e4019fb73a45d2faaba1eca8c87abee24a94f55fk2i.jpg",
         "anger",
         "surprise"
        ],
        [
         "15",
         "/workspace/Data/EST_data2/img_train/anger/zqyg88d21ff2411715fcece4165c3128f651572d875462c5a301b64865c2ds1rm.jpg",
         "anger",
         "neutral"
        ],
        [
         "16",
         "/workspace/Data/EST_data2/img_train/anger/zpwp7a6d26c586758a878fabd970855f8ff9538f7a56c90836a5639036e5becnf.jpg",
         "anger",
         "neutral"
        ],
        [
         "17",
         "/workspace/Data/EST_data2/img_train/anger/zoh934edb1a1116a7144c43d3aaaee1ac1614211d412c13c7c9114b9211b7nktv.jpg",
         "anger",
         "neutral"
        ],
        [
         "18",
         "/workspace/Data/EST_data2/img_train/anger/zoe60f3ffaae65ae6a4c856a3529a37c25ac7188fbcca5586ac5d0846fa0b67x6.jpg",
         "anger",
         "neutral"
        ],
        [
         "19",
         "/workspace/Data/EST_data2/img_train/anger/zocva10b9d4ceeb8d46b856baa95b124d141e9ac1da18de818bbbec28e41ehtim.jpg",
         "anger",
         "surprise"
        ],
        [
         "20",
         "/workspace/Data/EST_data2/img_train/anger/znxedcd5fc8dcc28112d572f2c617f0f514575d53686f22586c8271d8f371ywlz.jpg",
         "anger",
         "neutral"
        ],
        [
         "21",
         "/workspace/Data/EST_data2/img_train/anger/zmr369dae7f570a83ca7b6a586761a0de5906825f8ebaa110356856c6b9a7xh38.jpg",
         "anger",
         "neutral"
        ],
        [
         "22",
         "/workspace/Data/EST_data2/img_train/anger/zjow4f5b5cac811fec2e8642b2b4887874a6f6794a424af148c70184c2c8dpl2c.jpg",
         "anger",
         "surprise"
        ],
        [
         "23",
         "/workspace/Data/EST_data2/img_train/anger/zjeg146985644974b4538873e68e3c228395a738e6796a66009895b5a53ccj6un.jpg",
         "anger",
         "neutral"
        ],
        [
         "24",
         "/workspace/Data/EST_data2/img_train/anger/zifsf92ea0d3a27f6577c3af17c59218f540278524035a072199295ef34bccwgv.jpg",
         "anger",
         "neutral"
        ],
        [
         "25",
         "/workspace/Data/EST_data2/img_train/anger/zhu3e78b37755e75e784ff37529675d7df17bb6987c18b5c1bff621535fccm64t.jpg",
         "anger",
         "neutral"
        ],
        [
         "26",
         "/workspace/Data/EST_data2/img_train/anger/zhm4c6c9955073084936c67199405322347e0951f16324ec807e35de43ee0um4m.jpg",
         "anger",
         "surprise"
        ],
        [
         "27",
         "/workspace/Data/EST_data2/img_train/anger/zhcwe0651766ba553be5e13e85e69521e300dd754b876f036c76e7a3973b27n2y.jpg",
         "anger",
         "neutral"
        ],
        [
         "28",
         "/workspace/Data/EST_data2/img_train/anger/zh40fa1f793163ca588e8eebc088ce295e92a746be1ef83873bcb301eb94cwbbi.jpg",
         "anger",
         "neutral"
        ],
        [
         "29",
         "/workspace/Data/EST_data2/img_train/anger/zgcg78e35673f7b97b73a19b8d69f3b7988d3f6d91480bd673934674469a8axm7.jpg",
         "anger",
         "neutral"
        ],
        [
         "30",
         "/workspace/Data/EST_data2/img_train/anger/zf7qf505f6948bdd9cfd970c069666d5ed21f63fb5f3b16f48b255055d414f3q8.jpg",
         "anger",
         "surprise"
        ],
        [
         "31",
         "/workspace/Data/EST_data2/img_train/anger/zez2fc892ab135118480052342491aa5d6257143dac97b19b4b47c4402431r7m6.jpg",
         "anger",
         "neutral"
        ],
        [
         "32",
         "/workspace/Data/EST_data2/img_train/anger/ze4u417aaf677be1eb7c61c07b2c867ccd7bb777286b987801bb1a7bb0ec6xm9m.jpg",
         "anger",
         "neutral"
        ],
        [
         "33",
         "/workspace/Data/EST_data2/img_train/anger/zb0z44b7525b4121a08ff36e4747aa71e5d1a426134db40af421874b7b57ajhd0.jpg",
         "anger",
         "neutral"
        ],
        [
         "34",
         "/workspace/Data/EST_data2/img_train/anger/zb06757b54d577fbec7267037cabd7574dc4cbff575b0d557b317457c73e5w94l.jpg",
         "anger",
         "happy"
        ],
        [
         "35",
         "/workspace/Data/EST_data2/img_train/anger/zawmab27e9c84d93d4282a745ef7c30267bf144c44fc411ec6a262ce0c575i31o.jpg",
         "anger",
         "neutral"
        ],
        [
         "36",
         "/workspace/Data/EST_data2/img_train/anger/z8staf92917dfd742d79a624d0ed03111a5c844a965c7f6352522daee391funjc.jpg",
         "anger",
         "neutral"
        ],
        [
         "37",
         "/workspace/Data/EST_data2/img_train/anger/z7lz2e451ad4cbcd21ce7b5921f6efa64642a7c1acf101272b39fe14ff7e9o32q.jpg",
         "anger",
         "neutral"
        ],
        [
         "38",
         "/workspace/Data/EST_data2/img_train/anger/z7e5aa01113ea6ce401201e81271df3f898130a01da85e676112d836efe9cr2ew.jpg",
         "anger",
         "surprise"
        ],
        [
         "39",
         "/workspace/Data/EST_data2/img_train/anger/z77r9a671e8ce1e635677159469b9ddf47895a9909e995fbc49dd486eab8dc5wf.jpg",
         "anger",
         "neutral"
        ],
        [
         "40",
         "/workspace/Data/EST_data2/img_train/anger/z51i1f6e366b1c8e5e5a53e472cf66b3e6ee6a68ddc2ddcedc57c8d02183dym66.jpg",
         "anger",
         "neutral"
        ],
        [
         "41",
         "/workspace/Data/EST_data2/img_train/anger/z4inf6ccda2688a6ead2779ef462744f3c855a6336362393ed998743cf187s02k.jpg",
         "anger",
         "surprise"
        ],
        [
         "42",
         "/workspace/Data/EST_data2/img_train/anger/z25a7acca248e9059c80a32dd5239a940281c3cb327a3a3371429b48427ee7g0v.jpg",
         "anger",
         "neutral"
        ],
        [
         "43",
         "/workspace/Data/EST_data2/img_train/anger/z1syd7802c7a284a03742e45c5a0cb73aa0a2d42cbd4cea9cb4cb72dcdad9g67j.jpg",
         "anger",
         "surprise"
        ],
        [
         "44",
         "/workspace/Data/EST_data2/img_train/anger/z17b5a1ff8a235cec1a1aaf585a8d63dc1a043d314ffd807dfa3cc8313a10hrtg.jpg",
         "anger",
         "neutral"
        ],
        [
         "45",
         "/workspace/Data/EST_data2/img_train/anger/z0zy50527052e705f75f77ffc3acffef2ec3ba9d2e76054a52e557b0a2eeerqzd.jpg",
         "anger",
         "neutral"
        ],
        [
         "46",
         "/workspace/Data/EST_data2/img_train/anger/z0hw9df1f4e11f245f0af399aa2f65e4d2cce62e32ffec096bd4f4fe4f80brm4j.jpg",
         "anger",
         "surprise"
        ],
        [
         "47",
         "/workspace/Data/EST_data2/img_train/anger/yzx9c39578de3852fca5e9c5b6c02089909965327f44550ad5a34cfb3ab33ttbf.jpg",
         "anger",
         "neutral"
        ],
        [
         "48",
         "/workspace/Data/EST_data2/img_train/anger/yznc57448070f75bbb975773549f529a00a49395f572887b070bdc8bb80758o35.jpg",
         "anger",
         "neutral"
        ],
        [
         "49",
         "/workspace/Data/EST_data2/img_train/anger/yyiz6ac119aea2f13e98cc16bf69a099ac92bc1b37421a6f1b6aa2f4fa1e6ktbx.jpg",
         "anger",
         "neutral"
        ]
       ],
       "shape": {
        "columns": 3,
        "rows": 8391
       }
      },
      "text/html": [
       "<div>\n",
       "<style scoped>\n",
       "    .dataframe tbody tr th:only-of-type {\n",
       "        vertical-align: middle;\n",
       "    }\n",
       "\n",
       "    .dataframe tbody tr th {\n",
       "        vertical-align: top;\n",
       "    }\n",
       "\n",
       "    .dataframe thead th {\n",
       "        text-align: right;\n",
       "    }\n",
       "</style>\n",
       "<table border=\"1\" class=\"dataframe\">\n",
       "  <thead>\n",
       "    <tr style=\"text-align: right;\">\n",
       "      <th></th>\n",
       "      <th>image_path</th>\n",
       "      <th>true_label</th>\n",
       "      <th>predicted_label</th>\n",
       "    </tr>\n",
       "  </thead>\n",
       "  <tbody>\n",
       "    <tr>\n",
       "      <th>0</th>\n",
       "      <td>/workspace/Data/EST_data2/img_train/anger/zzfs...</td>\n",
       "      <td>anger</td>\n",
       "      <td>surprise</td>\n",
       "    </tr>\n",
       "    <tr>\n",
       "      <th>1</th>\n",
       "      <td>/workspace/Data/EST_data2/img_train/anger/zyct...</td>\n",
       "      <td>anger</td>\n",
       "      <td>neutral</td>\n",
       "    </tr>\n",
       "    <tr>\n",
       "      <th>2</th>\n",
       "      <td>/workspace/Data/EST_data2/img_train/anger/zybh...</td>\n",
       "      <td>anger</td>\n",
       "      <td>neutral</td>\n",
       "    </tr>\n",
       "    <tr>\n",
       "      <th>3</th>\n",
       "      <td>/workspace/Data/EST_data2/img_train/anger/zy32...</td>\n",
       "      <td>anger</td>\n",
       "      <td>neutral</td>\n",
       "    </tr>\n",
       "    <tr>\n",
       "      <th>4</th>\n",
       "      <td>/workspace/Data/EST_data2/img_train/anger/zx1z...</td>\n",
       "      <td>anger</td>\n",
       "      <td>neutral</td>\n",
       "    </tr>\n",
       "    <tr>\n",
       "      <th>...</th>\n",
       "      <td>...</td>\n",
       "      <td>...</td>\n",
       "      <td>...</td>\n",
       "    </tr>\n",
       "    <tr>\n",
       "      <th>8386</th>\n",
       "      <td>/workspace/Data/EST_data2/img_test/sadness/00r...</td>\n",
       "      <td>sadness</td>\n",
       "      <td>neutral</td>\n",
       "    </tr>\n",
       "    <tr>\n",
       "      <th>8387</th>\n",
       "      <td>/workspace/Data/EST_data2/img_test/sadness/r49...</td>\n",
       "      <td>sadness</td>\n",
       "      <td>neutral</td>\n",
       "    </tr>\n",
       "    <tr>\n",
       "      <th>8388</th>\n",
       "      <td>/workspace/Data/EST_data2/img_test/sadness/fnm...</td>\n",
       "      <td>sadness</td>\n",
       "      <td>neutral</td>\n",
       "    </tr>\n",
       "    <tr>\n",
       "      <th>8389</th>\n",
       "      <td>/workspace/Data/EST_data2/img_test/sadness/f9n...</td>\n",
       "      <td>sadness</td>\n",
       "      <td>surprise</td>\n",
       "    </tr>\n",
       "    <tr>\n",
       "      <th>8390</th>\n",
       "      <td>/workspace/Data/EST_data2/img_test/sadness/cte...</td>\n",
       "      <td>sadness</td>\n",
       "      <td>neutral</td>\n",
       "    </tr>\n",
       "  </tbody>\n",
       "</table>\n",
       "<p>8391 rows × 3 columns</p>\n",
       "</div>"
      ],
      "text/plain": [
       "                                             image_path true_label  \\\n",
       "0     /workspace/Data/EST_data2/img_train/anger/zzfs...      anger   \n",
       "1     /workspace/Data/EST_data2/img_train/anger/zyct...      anger   \n",
       "2     /workspace/Data/EST_data2/img_train/anger/zybh...      anger   \n",
       "3     /workspace/Data/EST_data2/img_train/anger/zy32...      anger   \n",
       "4     /workspace/Data/EST_data2/img_train/anger/zx1z...      anger   \n",
       "...                                                 ...        ...   \n",
       "8386  /workspace/Data/EST_data2/img_test/sadness/00r...    sadness   \n",
       "8387  /workspace/Data/EST_data2/img_test/sadness/r49...    sadness   \n",
       "8388  /workspace/Data/EST_data2/img_test/sadness/fnm...    sadness   \n",
       "8389  /workspace/Data/EST_data2/img_test/sadness/f9n...    sadness   \n",
       "8390  /workspace/Data/EST_data2/img_test/sadness/cte...    sadness   \n",
       "\n",
       "     predicted_label  \n",
       "0           surprise  \n",
       "1            neutral  \n",
       "2            neutral  \n",
       "3            neutral  \n",
       "4            neutral  \n",
       "...              ...  \n",
       "8386         neutral  \n",
       "8387         neutral  \n",
       "8388         neutral  \n",
       "8389        surprise  \n",
       "8390         neutral  \n",
       "\n",
       "[8391 rows x 3 columns]"
      ]
     },
     "execution_count": 3,
     "metadata": {},
     "output_type": "execute_result"
    }
   ],
   "source": [
    "merged_df"
   ]
  },
  {
   "cell_type": "code",
   "execution_count": null,
   "id": "b7c05072",
   "metadata": {},
   "outputs": [
    {
     "name": "stdout",
     "output_type": "stream",
     "text": [
      "true_label\n",
      "panic      2101\n",
      "anger      2100\n",
      "sadness    2100\n",
      "happy      2090\n",
      "Name: count, dtype: int64\n",
      "\n",
      "Data for true_label = anger\n"
     ]
    },
    {
     "data": {
      "application/vnd.microsoft.datawrangler.viewer.v0+json": {
       "columns": [
        {
         "name": "index",
         "rawType": "int64",
         "type": "integer"
        },
        {
         "name": "image_path",
         "rawType": "object",
         "type": "string"
        },
        {
         "name": "true_label",
         "rawType": "object",
         "type": "string"
        },
        {
         "name": "predicted_label",
         "rawType": "object",
         "type": "string"
        }
       ],
       "ref": "ae826649-5ba5-4b78-88b6-65f80a2f5c2a",
       "rows": [
        [
         "0",
         "/workspace/Data/EST_data2/img_train/anger/zzfs153e94109c926e57ec459131cc6db5934544ee63c625589a595b55ca0zuee.jpg",
         "anger",
         "surprise"
        ],
        [
         "1",
         "/workspace/Data/EST_data2/img_train/anger/zyct94aba1ee0d1e6292f6f56ecdba6d29a5b6e1ca43b6ab9a9b1fa1fc7a2lv51.jpg",
         "anger",
         "neutral"
        ],
        [
         "2",
         "/workspace/Data/EST_data2/img_train/anger/zybhf86ef77e020261b33724557a6f881876051e2e67898514564afe84e019f81.jpg",
         "anger",
         "neutral"
        ],
        [
         "3",
         "/workspace/Data/EST_data2/img_train/anger/zy326c174c014be2ded498c447f94dc091ff4fd0c142ddc5b7efe9703300ccp2v.jpg",
         "anger",
         "neutral"
        ],
        [
         "4",
         "/workspace/Data/EST_data2/img_train/anger/zx1z7a73d6976eee78347847db5180b094fe70e7aa0920ed29b54189936daz9f0.jpg",
         "anger",
         "neutral"
        ]
       ],
       "shape": {
        "columns": 3,
        "rows": 5
       }
      },
      "text/html": [
       "<div>\n",
       "<style scoped>\n",
       "    .dataframe tbody tr th:only-of-type {\n",
       "        vertical-align: middle;\n",
       "    }\n",
       "\n",
       "    .dataframe tbody tr th {\n",
       "        vertical-align: top;\n",
       "    }\n",
       "\n",
       "    .dataframe thead th {\n",
       "        text-align: right;\n",
       "    }\n",
       "</style>\n",
       "<table border=\"1\" class=\"dataframe\">\n",
       "  <thead>\n",
       "    <tr style=\"text-align: right;\">\n",
       "      <th></th>\n",
       "      <th>image_path</th>\n",
       "      <th>true_label</th>\n",
       "      <th>predicted_label</th>\n",
       "    </tr>\n",
       "  </thead>\n",
       "  <tbody>\n",
       "    <tr>\n",
       "      <th>0</th>\n",
       "      <td>/workspace/Data/EST_data2/img_train/anger/zzfs...</td>\n",
       "      <td>anger</td>\n",
       "      <td>surprise</td>\n",
       "    </tr>\n",
       "    <tr>\n",
       "      <th>1</th>\n",
       "      <td>/workspace/Data/EST_data2/img_train/anger/zyct...</td>\n",
       "      <td>anger</td>\n",
       "      <td>neutral</td>\n",
       "    </tr>\n",
       "    <tr>\n",
       "      <th>2</th>\n",
       "      <td>/workspace/Data/EST_data2/img_train/anger/zybh...</td>\n",
       "      <td>anger</td>\n",
       "      <td>neutral</td>\n",
       "    </tr>\n",
       "    <tr>\n",
       "      <th>3</th>\n",
       "      <td>/workspace/Data/EST_data2/img_train/anger/zy32...</td>\n",
       "      <td>anger</td>\n",
       "      <td>neutral</td>\n",
       "    </tr>\n",
       "    <tr>\n",
       "      <th>4</th>\n",
       "      <td>/workspace/Data/EST_data2/img_train/anger/zx1z...</td>\n",
       "      <td>anger</td>\n",
       "      <td>neutral</td>\n",
       "    </tr>\n",
       "  </tbody>\n",
       "</table>\n",
       "</div>"
      ],
      "text/plain": [
       "                                          image_path true_label  \\\n",
       "0  /workspace/Data/EST_data2/img_train/anger/zzfs...      anger   \n",
       "1  /workspace/Data/EST_data2/img_train/anger/zyct...      anger   \n",
       "2  /workspace/Data/EST_data2/img_train/anger/zybh...      anger   \n",
       "3  /workspace/Data/EST_data2/img_train/anger/zy32...      anger   \n",
       "4  /workspace/Data/EST_data2/img_train/anger/zx1z...      anger   \n",
       "\n",
       "  predicted_label  \n",
       "0        surprise  \n",
       "1         neutral  \n",
       "2         neutral  \n",
       "3         neutral  \n",
       "4         neutral  "
      ]
     },
     "metadata": {},
     "output_type": "display_data"
    },
    {
     "name": "stdout",
     "output_type": "stream",
     "text": [
      "\n",
      "Data for true_label = happy\n"
     ]
    },
    {
     "data": {
      "application/vnd.microsoft.datawrangler.viewer.v0+json": {
       "columns": [
        {
         "name": "index",
         "rawType": "int64",
         "type": "integer"
        },
        {
         "name": "image_path",
         "rawType": "object",
         "type": "string"
        },
        {
         "name": "true_label",
         "rawType": "object",
         "type": "string"
        },
        {
         "name": "predicted_label",
         "rawType": "object",
         "type": "string"
        }
       ],
       "ref": "fb440251-5166-4c23-b96a-419dd44b6916",
       "rows": [
        [
         "1500",
         "/workspace/Data/EST_data2/img_train/happy/zz6122cb740fb5cd0fbf74402dd6612242a246b398549accfbf9f2e85d90bqi1s.jpg",
         "happy",
         "neutral"
        ],
        [
         "1501",
         "/workspace/Data/EST_data2/img_train/happy/zx4nc5734ce1cdb70f016d2e5a5d6b0705288105961b23ff9fcbfb756425f9atg.jpg",
         "happy",
         "neutral"
        ],
        [
         "1502",
         "/workspace/Data/EST_data2/img_train/happy/zx4611779ff117f718e1719768b1d627a404c02291df2436188dd80220212mdc7.jpg",
         "happy",
         "happy"
        ],
        [
         "1503",
         "/workspace/Data/EST_data2/img_train/happy/zvzv1be662cdbbbafd85268fbac59430a1e2328cf62e1dad01cd2c4a7ec5f215c.jpg",
         "happy",
         "neutral"
        ],
        [
         "1504",
         "/workspace/Data/EST_data2/img_train/happy/zv0r61cce4a8ffdcd5158c98a1ed5624fb2ad6f92f2f7611f9fddcc25f7e3aei6.jpg",
         "happy",
         "happy"
        ]
       ],
       "shape": {
        "columns": 3,
        "rows": 5
       }
      },
      "text/html": [
       "<div>\n",
       "<style scoped>\n",
       "    .dataframe tbody tr th:only-of-type {\n",
       "        vertical-align: middle;\n",
       "    }\n",
       "\n",
       "    .dataframe tbody tr th {\n",
       "        vertical-align: top;\n",
       "    }\n",
       "\n",
       "    .dataframe thead th {\n",
       "        text-align: right;\n",
       "    }\n",
       "</style>\n",
       "<table border=\"1\" class=\"dataframe\">\n",
       "  <thead>\n",
       "    <tr style=\"text-align: right;\">\n",
       "      <th></th>\n",
       "      <th>image_path</th>\n",
       "      <th>true_label</th>\n",
       "      <th>predicted_label</th>\n",
       "    </tr>\n",
       "  </thead>\n",
       "  <tbody>\n",
       "    <tr>\n",
       "      <th>1500</th>\n",
       "      <td>/workspace/Data/EST_data2/img_train/happy/zz61...</td>\n",
       "      <td>happy</td>\n",
       "      <td>neutral</td>\n",
       "    </tr>\n",
       "    <tr>\n",
       "      <th>1501</th>\n",
       "      <td>/workspace/Data/EST_data2/img_train/happy/zx4n...</td>\n",
       "      <td>happy</td>\n",
       "      <td>neutral</td>\n",
       "    </tr>\n",
       "    <tr>\n",
       "      <th>1502</th>\n",
       "      <td>/workspace/Data/EST_data2/img_train/happy/zx46...</td>\n",
       "      <td>happy</td>\n",
       "      <td>happy</td>\n",
       "    </tr>\n",
       "    <tr>\n",
       "      <th>1503</th>\n",
       "      <td>/workspace/Data/EST_data2/img_train/happy/zvzv...</td>\n",
       "      <td>happy</td>\n",
       "      <td>neutral</td>\n",
       "    </tr>\n",
       "    <tr>\n",
       "      <th>1504</th>\n",
       "      <td>/workspace/Data/EST_data2/img_train/happy/zv0r...</td>\n",
       "      <td>happy</td>\n",
       "      <td>happy</td>\n",
       "    </tr>\n",
       "  </tbody>\n",
       "</table>\n",
       "</div>"
      ],
      "text/plain": [
       "                                             image_path true_label  \\\n",
       "1500  /workspace/Data/EST_data2/img_train/happy/zz61...      happy   \n",
       "1501  /workspace/Data/EST_data2/img_train/happy/zx4n...      happy   \n",
       "1502  /workspace/Data/EST_data2/img_train/happy/zx46...      happy   \n",
       "1503  /workspace/Data/EST_data2/img_train/happy/zvzv...      happy   \n",
       "1504  /workspace/Data/EST_data2/img_train/happy/zv0r...      happy   \n",
       "\n",
       "     predicted_label  \n",
       "1500         neutral  \n",
       "1501         neutral  \n",
       "1502           happy  \n",
       "1503         neutral  \n",
       "1504           happy  "
      ]
     },
     "metadata": {},
     "output_type": "display_data"
    },
    {
     "name": "stdout",
     "output_type": "stream",
     "text": [
      "\n",
      "Data for true_label = panic\n"
     ]
    },
    {
     "data": {
      "application/vnd.microsoft.datawrangler.viewer.v0+json": {
       "columns": [
        {
         "name": "index",
         "rawType": "int64",
         "type": "integer"
        },
        {
         "name": "image_path",
         "rawType": "object",
         "type": "string"
        },
        {
         "name": "true_label",
         "rawType": "object",
         "type": "string"
        },
        {
         "name": "predicted_label",
         "rawType": "object",
         "type": "string"
        }
       ],
       "ref": "05498eb5-3d2a-436f-ad17-e4791564e739",
       "rows": [
        [
         "2990",
         "/workspace/Data/EST_data2/img_train/panic/zzutf99b162bc980293be4374c44b9993950f80f69355b469558222bf8abcmz48.jpg",
         "panic",
         "surprise"
        ],
        [
         "2991",
         "/workspace/Data/EST_data2/img_train/panic/zzqj83891357fca33fbf2bcc337885ba59f32c761a06a6543895c159a4558vda3.jpg",
         "panic",
         "neutral"
        ],
        [
         "2992",
         "/workspace/Data/EST_data2/img_train/panic/zz3e5aaf181c6466fe490088cce981f11044fac68f9b9ff0ab8a0919c18fd4uj3.jpg",
         "panic",
         "neutral"
        ],
        [
         "2993",
         "/workspace/Data/EST_data2/img_train/panic/zyi00a1385a0ef91d4ff83ed0c29dfebfbeac00fd39f14f9ea2b379ab33d23occ.jpg",
         "panic",
         "surprise"
        ],
        [
         "2994",
         "/workspace/Data/EST_data2/img_train/panic/zyel258c8803314b24bd818b793302bfc3c3bb315a10f05b1b1e25d1f0870994p.jpg",
         "panic",
         "surprise"
        ]
       ],
       "shape": {
        "columns": 3,
        "rows": 5
       }
      },
      "text/html": [
       "<div>\n",
       "<style scoped>\n",
       "    .dataframe tbody tr th:only-of-type {\n",
       "        vertical-align: middle;\n",
       "    }\n",
       "\n",
       "    .dataframe tbody tr th {\n",
       "        vertical-align: top;\n",
       "    }\n",
       "\n",
       "    .dataframe thead th {\n",
       "        text-align: right;\n",
       "    }\n",
       "</style>\n",
       "<table border=\"1\" class=\"dataframe\">\n",
       "  <thead>\n",
       "    <tr style=\"text-align: right;\">\n",
       "      <th></th>\n",
       "      <th>image_path</th>\n",
       "      <th>true_label</th>\n",
       "      <th>predicted_label</th>\n",
       "    </tr>\n",
       "  </thead>\n",
       "  <tbody>\n",
       "    <tr>\n",
       "      <th>2990</th>\n",
       "      <td>/workspace/Data/EST_data2/img_train/panic/zzut...</td>\n",
       "      <td>panic</td>\n",
       "      <td>surprise</td>\n",
       "    </tr>\n",
       "    <tr>\n",
       "      <th>2991</th>\n",
       "      <td>/workspace/Data/EST_data2/img_train/panic/zzqj...</td>\n",
       "      <td>panic</td>\n",
       "      <td>neutral</td>\n",
       "    </tr>\n",
       "    <tr>\n",
       "      <th>2992</th>\n",
       "      <td>/workspace/Data/EST_data2/img_train/panic/zz3e...</td>\n",
       "      <td>panic</td>\n",
       "      <td>neutral</td>\n",
       "    </tr>\n",
       "    <tr>\n",
       "      <th>2993</th>\n",
       "      <td>/workspace/Data/EST_data2/img_train/panic/zyi0...</td>\n",
       "      <td>panic</td>\n",
       "      <td>surprise</td>\n",
       "    </tr>\n",
       "    <tr>\n",
       "      <th>2994</th>\n",
       "      <td>/workspace/Data/EST_data2/img_train/panic/zyel...</td>\n",
       "      <td>panic</td>\n",
       "      <td>surprise</td>\n",
       "    </tr>\n",
       "  </tbody>\n",
       "</table>\n",
       "</div>"
      ],
      "text/plain": [
       "                                             image_path true_label  \\\n",
       "2990  /workspace/Data/EST_data2/img_train/panic/zzut...      panic   \n",
       "2991  /workspace/Data/EST_data2/img_train/panic/zzqj...      panic   \n",
       "2992  /workspace/Data/EST_data2/img_train/panic/zz3e...      panic   \n",
       "2993  /workspace/Data/EST_data2/img_train/panic/zyi0...      panic   \n",
       "2994  /workspace/Data/EST_data2/img_train/panic/zyel...      panic   \n",
       "\n",
       "     predicted_label  \n",
       "2990        surprise  \n",
       "2991         neutral  \n",
       "2992         neutral  \n",
       "2993        surprise  \n",
       "2994        surprise  "
      ]
     },
     "metadata": {},
     "output_type": "display_data"
    },
    {
     "name": "stdout",
     "output_type": "stream",
     "text": [
      "\n",
      "Data for true_label = sadness\n"
     ]
    },
    {
     "data": {
      "application/vnd.microsoft.datawrangler.viewer.v0+json": {
       "columns": [
        {
         "name": "index",
         "rawType": "int64",
         "type": "integer"
        },
        {
         "name": "image_path",
         "rawType": "object",
         "type": "string"
        },
        {
         "name": "true_label",
         "rawType": "object",
         "type": "string"
        },
        {
         "name": "predicted_label",
         "rawType": "object",
         "type": "string"
        }
       ],
       "ref": "cca7a7a2-bfeb-4ef6-addd-6b5378bce377",
       "rows": [
        [
         "4491",
         "/workspace/Data/EST_data2/img_train/sadness/zzy20c2a35f933560fbe515050315bbf65ec99bb46b65fe0b9ca13ce5c5bcb3ej.jpg",
         "sadness",
         "neutral"
        ],
        [
         "4492",
         "/workspace/Data/EST_data2/img_train/sadness/zygcc2ae65d241fa88e458f5a933aa46a4e3f1d666d654f2ee94e96017e70f6xq.jpg",
         "sadness",
         "neutral"
        ],
        [
         "4493",
         "/workspace/Data/EST_data2/img_train/sadness/zxum204e0778e08c767771d2e4dcd822a1e64dd416d5b87e3e3c9d42dba70wxz5.jpg",
         "sadness",
         "neutral"
        ],
        [
         "4494",
         "/workspace/Data/EST_data2/img_train/sadness/zwujfaaef6d0a5d5d4ad708faaba727baefa8b7b521b2d796f3270747f284ulhq.jpg",
         "sadness",
         "neutral"
        ],
        [
         "4495",
         "/workspace/Data/EST_data2/img_train/sadness/zuuk0561a780676e40cc61ecfd9ad664522c1668eb59a223160d6736fc663yaww.jpg",
         "sadness",
         "neutral"
        ]
       ],
       "shape": {
        "columns": 3,
        "rows": 5
       }
      },
      "text/html": [
       "<div>\n",
       "<style scoped>\n",
       "    .dataframe tbody tr th:only-of-type {\n",
       "        vertical-align: middle;\n",
       "    }\n",
       "\n",
       "    .dataframe tbody tr th {\n",
       "        vertical-align: top;\n",
       "    }\n",
       "\n",
       "    .dataframe thead th {\n",
       "        text-align: right;\n",
       "    }\n",
       "</style>\n",
       "<table border=\"1\" class=\"dataframe\">\n",
       "  <thead>\n",
       "    <tr style=\"text-align: right;\">\n",
       "      <th></th>\n",
       "      <th>image_path</th>\n",
       "      <th>true_label</th>\n",
       "      <th>predicted_label</th>\n",
       "    </tr>\n",
       "  </thead>\n",
       "  <tbody>\n",
       "    <tr>\n",
       "      <th>4491</th>\n",
       "      <td>/workspace/Data/EST_data2/img_train/sadness/zz...</td>\n",
       "      <td>sadness</td>\n",
       "      <td>neutral</td>\n",
       "    </tr>\n",
       "    <tr>\n",
       "      <th>4492</th>\n",
       "      <td>/workspace/Data/EST_data2/img_train/sadness/zy...</td>\n",
       "      <td>sadness</td>\n",
       "      <td>neutral</td>\n",
       "    </tr>\n",
       "    <tr>\n",
       "      <th>4493</th>\n",
       "      <td>/workspace/Data/EST_data2/img_train/sadness/zx...</td>\n",
       "      <td>sadness</td>\n",
       "      <td>neutral</td>\n",
       "    </tr>\n",
       "    <tr>\n",
       "      <th>4494</th>\n",
       "      <td>/workspace/Data/EST_data2/img_train/sadness/zw...</td>\n",
       "      <td>sadness</td>\n",
       "      <td>neutral</td>\n",
       "    </tr>\n",
       "    <tr>\n",
       "      <th>4495</th>\n",
       "      <td>/workspace/Data/EST_data2/img_train/sadness/zu...</td>\n",
       "      <td>sadness</td>\n",
       "      <td>neutral</td>\n",
       "    </tr>\n",
       "  </tbody>\n",
       "</table>\n",
       "</div>"
      ],
      "text/plain": [
       "                                             image_path true_label  \\\n",
       "4491  /workspace/Data/EST_data2/img_train/sadness/zz...    sadness   \n",
       "4492  /workspace/Data/EST_data2/img_train/sadness/zy...    sadness   \n",
       "4493  /workspace/Data/EST_data2/img_train/sadness/zx...    sadness   \n",
       "4494  /workspace/Data/EST_data2/img_train/sadness/zw...    sadness   \n",
       "4495  /workspace/Data/EST_data2/img_train/sadness/zu...    sadness   \n",
       "\n",
       "     predicted_label  \n",
       "4491         neutral  \n",
       "4492         neutral  \n",
       "4493         neutral  \n",
       "4494         neutral  \n",
       "4495         neutral  "
      ]
     },
     "metadata": {},
     "output_type": "display_data"
    }
   ],
   "source": [
    "# true_label별 데이터 개수 확인\n",
    "print(merged_df['true_label'].value_counts())\n",
    "\n",
    "# true_label별 데이터프레임 분리 예시\n",
    "for label in merged_df['true_label'].unique():\n",
    "    print(f\"\\nData for true_label = {label}\")\n",
    "    display(merged_df[merged_df['true_label'] == label].head())"
   ]
  },
  {
   "cell_type": "code",
   "execution_count": 17,
   "id": "32842991",
   "metadata": {},
   "outputs": [
    {
     "name": "stdout",
     "output_type": "stream",
     "text": [
      "정답(일치) 개수:\n",
      "true_label\n",
      "happy      1306\n",
      "sadness      45\n",
      "anger         4\n",
      "panic         3\n",
      "Name: count, dtype: int64\n",
      "\n",
      "오답(불일치) 상세:\n"
     ]
    },
    {
     "data": {
      "application/vnd.microsoft.datawrangler.viewer.v0+json": {
       "columns": [
        {
         "name": "true_label",
         "rawType": "object",
         "type": "string"
        },
        {
         "name": "anger",
         "rawType": "int64",
         "type": "integer"
        },
        {
         "name": "contempt",
         "rawType": "int64",
         "type": "integer"
        },
        {
         "name": "disgust",
         "rawType": "int64",
         "type": "integer"
        },
        {
         "name": "happy",
         "rawType": "int64",
         "type": "integer"
        },
        {
         "name": "neutral",
         "rawType": "int64",
         "type": "integer"
        },
        {
         "name": "panic",
         "rawType": "int64",
         "type": "integer"
        },
        {
         "name": "sad",
         "rawType": "int64",
         "type": "integer"
        },
        {
         "name": "surprise",
         "rawType": "int64",
         "type": "integer"
        }
       ],
       "ref": "3297b9e6-fd87-4c20-92f9-ca503ef59db2",
       "rows": [
        [
         "anger",
         "0",
         "3",
         "46",
         "84",
         "1354",
         "3",
         "9",
         "597"
        ],
        [
         "happy",
         "0",
         "26",
         "2",
         "0",
         "542",
         "0",
         "1",
         "213"
        ],
        [
         "panic",
         "0",
         "1",
         "2",
         "29",
         "817",
         "0",
         "1",
         "1248"
        ],
        [
         "sadness",
         "1",
         "2",
         "30",
         "53",
         "1816",
         "3",
         "45",
         "150"
        ]
       ],
       "shape": {
        "columns": 8,
        "rows": 4
       }
      },
      "text/html": [
       "<div>\n",
       "<style scoped>\n",
       "    .dataframe tbody tr th:only-of-type {\n",
       "        vertical-align: middle;\n",
       "    }\n",
       "\n",
       "    .dataframe tbody tr th {\n",
       "        vertical-align: top;\n",
       "    }\n",
       "\n",
       "    .dataframe thead th {\n",
       "        text-align: right;\n",
       "    }\n",
       "</style>\n",
       "<table border=\"1\" class=\"dataframe\">\n",
       "  <thead>\n",
       "    <tr style=\"text-align: right;\">\n",
       "      <th>predicted_label</th>\n",
       "      <th>anger</th>\n",
       "      <th>contempt</th>\n",
       "      <th>disgust</th>\n",
       "      <th>happy</th>\n",
       "      <th>neutral</th>\n",
       "      <th>panic</th>\n",
       "      <th>sad</th>\n",
       "      <th>surprise</th>\n",
       "    </tr>\n",
       "    <tr>\n",
       "      <th>true_label</th>\n",
       "      <th></th>\n",
       "      <th></th>\n",
       "      <th></th>\n",
       "      <th></th>\n",
       "      <th></th>\n",
       "      <th></th>\n",
       "      <th></th>\n",
       "      <th></th>\n",
       "    </tr>\n",
       "  </thead>\n",
       "  <tbody>\n",
       "    <tr>\n",
       "      <th>anger</th>\n",
       "      <td>0</td>\n",
       "      <td>3</td>\n",
       "      <td>46</td>\n",
       "      <td>84</td>\n",
       "      <td>1354</td>\n",
       "      <td>3</td>\n",
       "      <td>9</td>\n",
       "      <td>597</td>\n",
       "    </tr>\n",
       "    <tr>\n",
       "      <th>happy</th>\n",
       "      <td>0</td>\n",
       "      <td>26</td>\n",
       "      <td>2</td>\n",
       "      <td>0</td>\n",
       "      <td>542</td>\n",
       "      <td>0</td>\n",
       "      <td>1</td>\n",
       "      <td>213</td>\n",
       "    </tr>\n",
       "    <tr>\n",
       "      <th>panic</th>\n",
       "      <td>0</td>\n",
       "      <td>1</td>\n",
       "      <td>2</td>\n",
       "      <td>29</td>\n",
       "      <td>817</td>\n",
       "      <td>0</td>\n",
       "      <td>1</td>\n",
       "      <td>1248</td>\n",
       "    </tr>\n",
       "    <tr>\n",
       "      <th>sadness</th>\n",
       "      <td>1</td>\n",
       "      <td>2</td>\n",
       "      <td>30</td>\n",
       "      <td>53</td>\n",
       "      <td>1816</td>\n",
       "      <td>3</td>\n",
       "      <td>45</td>\n",
       "      <td>150</td>\n",
       "    </tr>\n",
       "  </tbody>\n",
       "</table>\n",
       "</div>"
      ],
      "text/plain": [
       "predicted_label  anger  contempt  disgust  happy  neutral  panic  sad  \\\n",
       "true_label                                                              \n",
       "anger                0         3       46     84     1354      3    9   \n",
       "happy                0        26        2      0      542      0    1   \n",
       "panic                0         1        2     29      817      0    1   \n",
       "sadness              1         2       30     53     1816      3   45   \n",
       "\n",
       "predicted_label  surprise  \n",
       "true_label                 \n",
       "anger                 597  \n",
       "happy                 213  \n",
       "panic                1248  \n",
       "sadness               150  "
      ]
     },
     "execution_count": 17,
     "metadata": {},
     "output_type": "execute_result"
    }
   ],
   "source": [
    "# 트루라벨과 예측라벨이 일치하는 경우 감정별 개수\n",
    "print('정답(일치) 개수:')\n",
    "match = (merged_df['true_label'] == merged_df['predicted_label']) | ((merged_df['true_label'] == 'sadness') & (merged_df['predicted_label'] == 'sad'))\n",
    "print(merged_df[match]['true_label'].value_counts())\n",
    "\n",
    "# 트루라벨과 예측라벨이 불일치하는 경우 감정별로 어떻게 틀렸는지 집계\n",
    "print('\\n오답(불일치) 상세:')\n",
    "error_counts = merged_df[merged_df['true_label'] != merged_df['predicted_label']].groupby(['true_label', 'predicted_label']).size().unstack(fill_value=0)\n",
    "error_counts"
   ]
  }
 ],
 "metadata": {
  "kernelspec": {
   "display_name": "Python 3",
   "language": "python",
   "name": "python3"
  },
  "language_info": {
   "codemirror_mode": {
    "name": "ipython",
    "version": 3
   },
   "file_extension": ".py",
   "mimetype": "text/x-python",
   "name": "python",
   "nbconvert_exporter": "python",
   "pygments_lexer": "ipython3",
   "version": "3.11.11"
  }
 },
 "nbformat": 4,
 "nbformat_minor": 5
}
