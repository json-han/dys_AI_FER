{
 "cells": [
  {
   "cell_type": "markdown",
   "id": "1f797798",
   "metadata": {},
   "source": [
    "# 모델 다운로드"
   ]
  },
  {
   "cell_type": "code",
   "execution_count": 2,
   "id": "2acb8a22-2c8e-4c7d-8660-8775d09bc66c",
   "metadata": {},
   "outputs": [
    {
     "name": "stderr",
     "output_type": "stream",
     "text": [
      "Device set to use cuda:0\n"
     ]
    },
    {
     "name": "stdout",
     "output_type": "stream",
     "text": [
      "{0: 'anger', 1: 'contempt', 2: 'disgust', 3: 'fear', 4: 'happy', 5: 'neutral', 6: 'sad', 7: 'surprise'}\n"
     ]
    }
   ],
   "source": [
    "from transformers import AutoImageProcessor, AutoModelForImageClassification, pipeline\n",
    "from transformers import ViTImageProcessor\n",
    "\n",
    "model_name = \"HardlyHumans/Facial-expression-detection\"\n",
    "pipe = pipeline(\"image-classification\", model=model_name)\n",
    "\n",
    "# processor = AutoImageProcessor.from_pretrained(model_name)\n",
    "processor = ViTImageProcessor.from_pretrained(model_name, use_fast=True)\n",
    "model = AutoModelForImageClassification.from_pretrained(model_name)\n",
    "\n",
    "labels = model.config.id2label  # 모델 클래스 라벨(8가지)\n",
    "print(labels)"
   ]
  },
  {
   "cell_type": "markdown",
   "id": "96efd48b",
   "metadata": {},
   "source": [
    "# 이미지 분석"
   ]
  },
  {
   "cell_type": "code",
   "execution_count": null,
   "id": "1bf1c83a-1bc4-4a83-8974-1dced08f3832",
   "metadata": {},
   "outputs": [],
   "source": [
    "from PIL import Image\n",
    "\n",
    "# anger no.1 img\n",
    "img = Image.open(\"/workspace/Data/EST_data/img_test/anger/0h5sfbee84a3ee8e7efdd0f578f83e4df7e491dbcdab482a480a7add89daegs3z.jpg\")\n",
    "\n",
    "# result\n",
    "result = pipe(img)\n",
    "print(result) # 중립 61%, 놀람 34% 반환"
   ]
  },
  {
   "cell_type": "markdown",
   "id": "fca193ee",
   "metadata": {},
   "source": [
    "# 이미지 분석 (폴더별)"
   ]
  },
  {
   "cell_type": "markdown",
   "id": "03a5e009",
   "metadata": {},
   "source": [
    "다시 짚고 넘어가는 해당 모델의 label 분류 <br>\n",
    "{0: 'anger', 1: 'contempt', 2: 'disgust', 3: 'fear', 4: 'happy', 5: 'neutral', 6: 'sad', 7: 'surprise'}"
   ]
  },
  {
   "cell_type": "code",
   "execution_count": null,
   "id": "db92a1b9-58fe-4e8a-bd95-e7657559f6ae",
   "metadata": {},
   "outputs": [
    {
     "name": "stdout",
     "output_type": "stream",
     "text": [
      "anger: 300장\n",
      "happy: 300장\n",
      "panic: 300장\n",
      "sadness: 300장\n"
     ]
    },
    {
     "name": "stdout",
     "output_type": "stream",
     "text": [
      "분석 및 결과 저장 완료\n"
     ]
    }
   ],
   "source": [
    "import os\n",
    "from PIL import Image\n",
    "import csv\n",
    "\n",
    "base_dir = \"/workspace/Data/EST_data/img_\"\n",
    "split_folders = [\"train\", \"val\", \"test\"]\n",
    "emotion_folders = [\"anger\", \"happy\", \"panic\", \"sadness\"]\n",
    "\n",
    "image_paths = {}\n",
    "for split in split_folders:\n",
    "    for emotion in emotion_folders:\n",
    "        folder_path = base_dir + split\n",
    "        folder_path = os.path.join(folder_path, emotion)\n",
    "        image_files = [os.path.join(folder_path, f) for f in os.listdir(folder_path) if f.endswith('.jpg')]\n",
    "        image_files += [os.path.join(folder_path, f) for f in os.listdir(folder_path) if f.endswith('.jpeg')]\n",
    "        image_paths[emotion] = image_files\n",
    "\n",
    "# 각 감정별 이미지 수 확인 가능\n",
    "for emotion in emotion_folders:\n",
    "    print(f\"{emotion}: {len(image_paths[emotion])}장\")"
   ]
  },
  {
   "cell_type": "code",
   "execution_count": null,
   "id": "8173e382",
   "metadata": {},
   "outputs": [],
   "source": [
    "\n",
    "def map_label(label):\n",
    "    if label == \"fear\":\n",
    "        return \"panic\"\n",
    "    return label\n",
    "\n",
    "results = []\n",
    "\n",
    "for emotion in emotion_folders:\n",
    "    for img_path in image_paths[emotion]:\n",
    "        try:\n",
    "            img = Image.open(img_path)\n",
    "            res = pipe(img)\n",
    "            pred_label = map_label(res[0][\"label\"])\n",
    "            results.append((img_path, emotion, pred_label))\n",
    "        except Exception as e:\n",
    "            print(f\"Error: {img_path}, {e}\")\n",
    "            \n",
    "\n",
    "# 결과 CSV 저장\n",
    "with open(\"val_prediction_results.csv\", mode=\"w\", newline='', encoding=\"utf-8\") as file:\n",
    "    writer = csv.writer(file)\n",
    "    writer.writerow([\"image_path\", \"true_label\", \"predicted_label\"])\n",
    "    writer.writerows(results)\n",
    "\n",
    "print(\"분석 및 결과 저장 완료\")"
   ]
  },
  {
   "cell_type": "markdown",
   "id": "72d87f13",
   "metadata": {},
   "source": [
    "train"
   ]
  },
  {
   "cell_type": "code",
   "execution_count": null,
   "id": "7e88fa89",
   "metadata": {},
   "outputs": [
    {
     "name": "stdout",
     "output_type": "stream",
     "text": [
      "anger: 1500장\n",
      "happy: 1498장\n",
      "panic: 1501장\n",
      "sadness: 1500장\n"
     ]
    },
    {
     "name": "stdout",
     "output_type": "stream",
     "text": [
      "Error: /workspace/Data/EST_data2/img_train/happy/l5we1f0c87b63322b617e9f99533973b3be0f6f9a2383c6f87b3e1a598b3cnf8j.jpg, cannot identify image file '/workspace/Data/EST_data2/img_train/happy/l5we1f0c87b63322b617e9f99533973b3be0f6f9a2383c6f87b3e1a598b3cnf8j.jpg'\n",
      "Error: /workspace/Data/EST_data2/img_train/happy/l5no7acb42a930cc0132d3582037294a5141b22e031e942b88ba25421c02d8pis.jpg, cannot identify image file '/workspace/Data/EST_data2/img_train/happy/l5no7acb42a930cc0132d3582037294a5141b22e031e942b88ba25421c02d8pis.jpg'\n",
      "Error: /workspace/Data/EST_data2/img_train/happy/l57b20cdbedc2cbc5f393600f3cf0b2e8ab46359bc44b209c6c9793c53230fodk.jpg, cannot identify image file '/workspace/Data/EST_data2/img_train/happy/l57b20cdbedc2cbc5f393600f3cf0b2e8ab46359bc44b209c6c9793c53230fodk.jpg'\n",
      "Error: /workspace/Data/EST_data2/img_train/happy/l45y298e1deec7dcaeed58661179e0fedb881e55d2228979d854502572c8emi4a.jpg, cannot identify image file '/workspace/Data/EST_data2/img_train/happy/l45y298e1deec7dcaeed58661179e0fedb881e55d2228979d854502572c8emi4a.jpg'\n",
      "Error: /workspace/Data/EST_data2/img_train/happy/l3y416c0426ac6a16ba609a676ab278ff649b5ca52067b88cbd610c924649c0sh.jpg, cannot identify image file '/workspace/Data/EST_data2/img_train/happy/l3y416c0426ac6a16ba609a676ab278ff649b5ca52067b88cbd610c924649c0sh.jpg'\n",
      "Error: /workspace/Data/EST_data2/img_train/happy/l331ffdf8f3021f03bfd1fdb30164afff06687d1989d563b664ddb3126bdbvq8d (1).jpg, cannot identify image file '/workspace/Data/EST_data2/img_train/happy/l331ffdf8f3021f03bfd1fdb30164afff06687d1989d563b664ddb3126bdbvq8d (1).jpg'\n",
      "Error: /workspace/Data/EST_data2/img_train/happy/l07rd1b2c2a827616bdb32c27d6f1f102b36fff3d97bbdbc6d41afdf436b2bfms (1).jpg, cannot identify image file '/workspace/Data/EST_data2/img_train/happy/l07rd1b2c2a827616bdb32c27d6f1f102b36fff3d97bbdbc6d41afdf436b2bfms (1).jpg'\n",
      "Error: /workspace/Data/EST_data2/img_train/happy/l047801b4f14bcf94bc6c85cfb9a1c15b8f884c27faf7c2cbb12b69e5b6ccwx77 (1).jpg, cannot identify image file '/workspace/Data/EST_data2/img_train/happy/l047801b4f14bcf94bc6c85cfb9a1c15b8f884c27faf7c2cbb12b69e5b6ccwx77 (1).jpg'\n",
      "분석 및 결과 저장 완료\n"
     ]
    }
   ],
   "source": [
    "import os\n",
    "from PIL import Image\n",
    "import csv\n",
    "\n",
    "base_dir = \"/workspace/Data/EST_data2/img_train\"\n",
    "emotion_folders = [\"anger\", \"happy\", \"panic\", \"sadness\"]\n",
    "\n",
    "image_paths = {}\n",
    "for emotion in emotion_folders:\n",
    "    folder_path = os.path.join(base_dir, emotion)\n",
    "    image_files = [os.path.join(folder_path, f) for f in os.listdir(folder_path) if f.endswith('.jpg')]\n",
    "    image_files += [os.path.join(folder_path, f) for f in os.listdir(folder_path) if f.endswith('.jpeg')]\n",
    "    image_paths[emotion] = image_files\n",
    "\n",
    "# 각 감정별 이미지 수 확인 가능\n",
    "for emotion in emotion_folders:\n",
    "    print(f\"{emotion}: {len(image_paths[emotion])}장\")\n",
    "\n",
    "def map_label(label):\n",
    "    if label == \"fear\":\n",
    "        return \"panic\"\n",
    "    return label\n",
    "    \n",
    "results = []\n",
    "\n",
    "for emotion in emotion_folders:\n",
    "    for img_path in image_paths[emotion]:\n",
    "        try:\n",
    "            img = Image.open(img_path)\n",
    "            res = pipe(img)\n",
    "            pred_label = map_label(res[0][\"label\"])\n",
    "            results.append((img_path, emotion, pred_label))\n",
    "        except Exception as e:\n",
    "            print(f\"Error: { }, {e}\")\n",
    "\n",
    "# 결과 CSV 저장\n",
    "with open(\"train_prediction_results.csv\", mode=\"w\", newline='', encoding=\"utf-8\") as file:\n",
    "    writer = csv.writer(file)\n",
    "    writer.writerow([\"image_path\", \"true_label\", \"predicted_label\"])\n",
    "    writer.writerows(results)\n",
    "\n",
    "print(\"분석 및 결과 저장 완료\")"
   ]
  }
 ],
 "metadata": {
  "kernelspec": {
   "display_name": "mlflow_env",
   "language": "python",
   "name": "python3"
  },
  "language_info": {
   "codemirror_mode": {
    "name": "ipython",
    "version": 3
   },
   "file_extension": ".py",
   "mimetype": "text/x-python",
   "name": "python",
   "nbconvert_exporter": "python",
   "pygments_lexer": "ipython3",
   "version": "3.11.11"
  }
 },
 "nbformat": 4,
 "nbformat_minor": 5
}
