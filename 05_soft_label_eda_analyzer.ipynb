{
 "cells": [
  {
   "cell_type": "code",
   "execution_count": null,
   "metadata": {},
   "outputs": [],
   "source": [
    "# Cell 1: 라이브러리 임포트 및 설정\n",
    "import pandas as pd\n",
    "import matplotlib.pyplot as plt\n",
    "import seaborn as sns\n",
    "import numpy as np\n",
    "\n",
    "# est_utils.py에서 필요한 함수 및 상수 임포트\n",
    "from est_utils import FONT_PROP, BACKBONE_CLASSES, plot_soft_label_boxplot, plot_soft_label_histograms\n",
    "\n",
    "# 설정\n",
    "INPUT_CSV_PATH = './output/04_softlabel_dataset.csv'\n",
    "BOXPLOT_OUTPUT_PATH = './output/05_overall_soft_label_boxplot.png'\n",
    "HISTOGRAM_OUTPUT_PATH = './output/05_soft_label_histograms_with_counts.png'\n",
    "\n",
    "soft_label_cols = [f'soft_{cls}' for cls in BACKBONE_CLASSES]"
   ]
  },
  {
   "cell_type": "code",
   "execution_count": 2,
   "metadata": {},
   "outputs": [
    {
     "name": "stdout",
     "output_type": "stream",
     "text": [
      "Overall soft label descriptive statistics:\n",
      "|               |   count |      mean |      std |   min |       25% |   50% |      75% |   max |\n",
      "|:--------------|--------:|----------:|---------:|------:|----------:|------:|---------:|------:|\n",
      "| soft_anger    |    8394 | 0.155984  | 0.2826   |     0 | 0         |   0   | 0.266667 |   0.8 |\n",
      "| soft_contempt |    8394 | 0         | 0        |     0 | 0         |   0   | 0        |   0   |\n",
      "| soft_disgust  |    8394 | 0         | 0        |     0 | 0         |   0   | 0        |   0   |\n",
      "| soft_fear     |    8394 | 0.125574  | 0.187156 |     0 | 0         |   0   | 0.3      |   1   |\n",
      "| soft_happy    |    8394 | 0.256612  | 0.42667  |     0 | 0         |   0   | 0.666667 |   1   |\n",
      "| soft_neutral  |    8394 | 0.196311  | 0.168033 |     0 | 0.0666667 |   0.2 | 0.3      |   1   |\n",
      "| soft_sad      |    8394 | 0.169538  | 0.26468  |     0 | 0         |   0   | 0.233333 |   0.7 |\n",
      "| soft_surprise |    8394 | 0.0959813 | 0.175669 |     0 | 0         |   0   | 0.166667 |   0.5 |\n"
     ]
    },
    {
     "data": {
      "application/vnd.microsoft.datawrangler.viewer.v0+json": {
       "columns": [
        {
         "name": "index",
         "rawType": "int64",
         "type": "integer"
        },
        {
         "name": "phase",
         "rawType": "object",
         "type": "string"
        },
        {
         "name": "category",
         "rawType": "object",
         "type": "string"
        },
        {
         "name": "filename",
         "rawType": "object",
         "type": "string"
        },
        {
         "name": "img_path",
         "rawType": "object",
         "type": "string"
        },
        {
         "name": "exists",
         "rawType": "bool",
         "type": "boolean"
        },
        {
         "name": "annot_A",
         "rawType": "object",
         "type": "string"
        },
        {
         "name": "annot_B",
         "rawType": "object",
         "type": "string"
        },
        {
         "name": "annot_C",
         "rawType": "object",
         "type": "string"
        },
        {
         "name": "soft_anger",
         "rawType": "float64",
         "type": "float"
        },
        {
         "name": "soft_contempt",
         "rawType": "float64",
         "type": "float"
        },
        {
         "name": "soft_disgust",
         "rawType": "float64",
         "type": "float"
        },
        {
         "name": "soft_fear",
         "rawType": "float64",
         "type": "float"
        },
        {
         "name": "soft_happy",
         "rawType": "float64",
         "type": "float"
        },
        {
         "name": "soft_neutral",
         "rawType": "float64",
         "type": "float"
        },
        {
         "name": "soft_sad",
         "rawType": "float64",
         "type": "float"
        },
        {
         "name": "soft_surprise",
         "rawType": "float64",
         "type": "float"
        }
       ],
       "ref": "fe142cf2-83e2-4c73-8271-5b11ede15c41",
       "rows": [
        [
         "0",
         "train",
         "anger",
         "6oj439e3fbcc52759fb3093035b7c0ecc55c93543dae63ec1162f5f6bfc6e481l.jpg",
         "./Data/EST_data/img_train/anger/6oj439e3fbcc52759fb3093035b7c0ecc55c93543dae63ec1162f5f6bfc6e481l.jpg",
         "True",
         "분노",
         "분노",
         "분노",
         "0.8",
         "0.0",
         "0.0",
         "0.0",
         "0.0",
         "0.2",
         "0.0",
         "0.0"
        ],
        [
         "1",
         "train",
         "anger",
         "65rsfe402042f34319e10128c1ab9614e2f967690a64a0016f2c49ff33fe7sy3z.jpg",
         "./Data/EST_data/img_train/anger/65rsfe402042f34319e10128c1ab9614e2f967690a64a0016f2c49ff33fe7sy3z.jpg",
         "True",
         "분노",
         "분노",
         "분노",
         "0.8",
         "0.0",
         "0.0",
         "0.0",
         "0.0",
         "0.2",
         "0.0",
         "0.0"
        ],
        [
         "2",
         "train",
         "anger",
         "b1cbe34734870cc11c33334e02bea93ac3a3b061caab62c0df1c6b9c75430tquz.jpg",
         "./Data/EST_data/img_train/anger/b1cbe34734870cc11c33334e02bea93ac3a3b061caab62c0df1c6b9c75430tquz.jpg",
         "True",
         "상처",
         "불안",
         "슬픔",
         "0.0",
         "0.0",
         "0.0",
         "0.3333333333333333",
         "0.0",
         "0.1999999999999999",
         "0.4666666666666666",
         "0.0"
        ],
        [
         "3",
         "train",
         "anger",
         "llfycc0aa29599cc63cace3610fdaaad3a99aab2ee38c9edb6c10966765bbwd5f.jpg",
         "./Data/EST_data/img_train/anger/llfycc0aa29599cc63cace3610fdaaad3a99aab2ee38c9edb6c10966765bbwd5f.jpg",
         "True",
         "분노",
         "분노",
         "분노",
         "0.8",
         "0.0",
         "0.0",
         "0.0",
         "0.0",
         "0.2",
         "0.0",
         "0.0"
        ],
        [
         "4",
         "train",
         "anger",
         "3hww73b70615461a7336d0383b53582f8bf804f6e0f30d64f36fb410038b82m2u.jpg",
         "./Data/EST_data/img_train/anger/3hww73b70615461a7336d0383b53582f8bf804f6e0f30d64f36fb410038b82m2u.jpg",
         "True",
         "기쁨",
         "분노",
         "분노",
         "0.5333333333333333",
         "0.0",
         "0.0",
         "0.0",
         "0.3333333333333333",
         "0.1333333333333333",
         "0.0",
         "0.0"
        ]
       ],
       "shape": {
        "columns": 16,
        "rows": 5
       }
      },
      "text/html": [
       "<div>\n",
       "<style scoped>\n",
       "    .dataframe tbody tr th:only-of-type {\n",
       "        vertical-align: middle;\n",
       "    }\n",
       "\n",
       "    .dataframe tbody tr th {\n",
       "        vertical-align: top;\n",
       "    }\n",
       "\n",
       "    .dataframe thead th {\n",
       "        text-align: right;\n",
       "    }\n",
       "</style>\n",
       "<table border=\"1\" class=\"dataframe\">\n",
       "  <thead>\n",
       "    <tr style=\"text-align: right;\">\n",
       "      <th></th>\n",
       "      <th>phase</th>\n",
       "      <th>category</th>\n",
       "      <th>filename</th>\n",
       "      <th>img_path</th>\n",
       "      <th>exists</th>\n",
       "      <th>annot_A</th>\n",
       "      <th>annot_B</th>\n",
       "      <th>annot_C</th>\n",
       "      <th>soft_anger</th>\n",
       "      <th>soft_contempt</th>\n",
       "      <th>soft_disgust</th>\n",
       "      <th>soft_fear</th>\n",
       "      <th>soft_happy</th>\n",
       "      <th>soft_neutral</th>\n",
       "      <th>soft_sad</th>\n",
       "      <th>soft_surprise</th>\n",
       "    </tr>\n",
       "  </thead>\n",
       "  <tbody>\n",
       "    <tr>\n",
       "      <th>0</th>\n",
       "      <td>train</td>\n",
       "      <td>anger</td>\n",
       "      <td>6oj439e3fbcc52759fb3093035b7c0ecc55c93543dae63...</td>\n",
       "      <td>./Data/EST_data/img_train/anger/6oj439e3fbcc52...</td>\n",
       "      <td>True</td>\n",
       "      <td>분노</td>\n",
       "      <td>분노</td>\n",
       "      <td>분노</td>\n",
       "      <td>0.800000</td>\n",
       "      <td>0.0</td>\n",
       "      <td>0.0</td>\n",
       "      <td>0.000000</td>\n",
       "      <td>0.000000</td>\n",
       "      <td>0.200000</td>\n",
       "      <td>0.000000</td>\n",
       "      <td>0.0</td>\n",
       "    </tr>\n",
       "    <tr>\n",
       "      <th>1</th>\n",
       "      <td>train</td>\n",
       "      <td>anger</td>\n",
       "      <td>65rsfe402042f34319e10128c1ab9614e2f967690a64a0...</td>\n",
       "      <td>./Data/EST_data/img_train/anger/65rsfe402042f3...</td>\n",
       "      <td>True</td>\n",
       "      <td>분노</td>\n",
       "      <td>분노</td>\n",
       "      <td>분노</td>\n",
       "      <td>0.800000</td>\n",
       "      <td>0.0</td>\n",
       "      <td>0.0</td>\n",
       "      <td>0.000000</td>\n",
       "      <td>0.000000</td>\n",
       "      <td>0.200000</td>\n",
       "      <td>0.000000</td>\n",
       "      <td>0.0</td>\n",
       "    </tr>\n",
       "    <tr>\n",
       "      <th>2</th>\n",
       "      <td>train</td>\n",
       "      <td>anger</td>\n",
       "      <td>b1cbe34734870cc11c33334e02bea93ac3a3b061caab62...</td>\n",
       "      <td>./Data/EST_data/img_train/anger/b1cbe34734870c...</td>\n",
       "      <td>True</td>\n",
       "      <td>상처</td>\n",
       "      <td>불안</td>\n",
       "      <td>슬픔</td>\n",
       "      <td>0.000000</td>\n",
       "      <td>0.0</td>\n",
       "      <td>0.0</td>\n",
       "      <td>0.333333</td>\n",
       "      <td>0.000000</td>\n",
       "      <td>0.200000</td>\n",
       "      <td>0.466667</td>\n",
       "      <td>0.0</td>\n",
       "    </tr>\n",
       "    <tr>\n",
       "      <th>3</th>\n",
       "      <td>train</td>\n",
       "      <td>anger</td>\n",
       "      <td>llfycc0aa29599cc63cace3610fdaaad3a99aab2ee38c9...</td>\n",
       "      <td>./Data/EST_data/img_train/anger/llfycc0aa29599...</td>\n",
       "      <td>True</td>\n",
       "      <td>분노</td>\n",
       "      <td>분노</td>\n",
       "      <td>분노</td>\n",
       "      <td>0.800000</td>\n",
       "      <td>0.0</td>\n",
       "      <td>0.0</td>\n",
       "      <td>0.000000</td>\n",
       "      <td>0.000000</td>\n",
       "      <td>0.200000</td>\n",
       "      <td>0.000000</td>\n",
       "      <td>0.0</td>\n",
       "    </tr>\n",
       "    <tr>\n",
       "      <th>4</th>\n",
       "      <td>train</td>\n",
       "      <td>anger</td>\n",
       "      <td>3hww73b70615461a7336d0383b53582f8bf804f6e0f30d...</td>\n",
       "      <td>./Data/EST_data/img_train/anger/3hww73b7061546...</td>\n",
       "      <td>True</td>\n",
       "      <td>기쁨</td>\n",
       "      <td>분노</td>\n",
       "      <td>분노</td>\n",
       "      <td>0.533333</td>\n",
       "      <td>0.0</td>\n",
       "      <td>0.0</td>\n",
       "      <td>0.000000</td>\n",
       "      <td>0.333333</td>\n",
       "      <td>0.133333</td>\n",
       "      <td>0.000000</td>\n",
       "      <td>0.0</td>\n",
       "    </tr>\n",
       "  </tbody>\n",
       "</table>\n",
       "</div>"
      ],
      "text/plain": [
       "   phase category                                           filename  \\\n",
       "0  train    anger  6oj439e3fbcc52759fb3093035b7c0ecc55c93543dae63...   \n",
       "1  train    anger  65rsfe402042f34319e10128c1ab9614e2f967690a64a0...   \n",
       "2  train    anger  b1cbe34734870cc11c33334e02bea93ac3a3b061caab62...   \n",
       "3  train    anger  llfycc0aa29599cc63cace3610fdaaad3a99aab2ee38c9...   \n",
       "4  train    anger  3hww73b70615461a7336d0383b53582f8bf804f6e0f30d...   \n",
       "\n",
       "                                            img_path  exists annot_A annot_B  \\\n",
       "0  ./Data/EST_data/img_train/anger/6oj439e3fbcc52...    True      분노      분노   \n",
       "1  ./Data/EST_data/img_train/anger/65rsfe402042f3...    True      분노      분노   \n",
       "2  ./Data/EST_data/img_train/anger/b1cbe34734870c...    True      상처      불안   \n",
       "3  ./Data/EST_data/img_train/anger/llfycc0aa29599...    True      분노      분노   \n",
       "4  ./Data/EST_data/img_train/anger/3hww73b7061546...    True      기쁨      분노   \n",
       "\n",
       "  annot_C  soft_anger  soft_contempt  soft_disgust  soft_fear  soft_happy  \\\n",
       "0      분노    0.800000            0.0           0.0   0.000000    0.000000   \n",
       "1      분노    0.800000            0.0           0.0   0.000000    0.000000   \n",
       "2      슬픔    0.000000            0.0           0.0   0.333333    0.000000   \n",
       "3      분노    0.800000            0.0           0.0   0.000000    0.000000   \n",
       "4      분노    0.533333            0.0           0.0   0.000000    0.333333   \n",
       "\n",
       "   soft_neutral  soft_sad  soft_surprise  \n",
       "0      0.200000  0.000000            0.0  \n",
       "1      0.200000  0.000000            0.0  \n",
       "2      0.200000  0.466667            0.0  \n",
       "3      0.200000  0.000000            0.0  \n",
       "4      0.133333  0.000000            0.0  "
      ]
     },
     "metadata": {},
     "output_type": "display_data"
    }
   ],
   "source": [
    "# Cell 2: 데이터 로드 및 기술 통계 표시\n",
    "df_softlabel = pd.read_csv(INPUT_CSV_PATH)\n",
    "\n",
    "# 기술 통계 계산\n",
    "df_descriptive_stats = df_softlabel[soft_label_cols].describe()\n",
    "df_descriptive_stats = df_descriptive_stats.T\n",
    "\n",
    "print('Overall soft label descriptive statistics:')\n",
    "print(df_descriptive_stats.to_markdown())\n",
    "\n",
    "display(df_softlabel.head())"
   ]
  },
  {
   "cell_type": "code",
   "execution_count": 3,
   "metadata": {},
   "outputs": [
    {
     "name": "stdout",
     "output_type": "stream",
     "text": [
      "Box plot saved as '05_overall_soft_label_boxplot.png'\n"
     ]
    }
   ],
   "source": [
    "# Cell 3: 박스 플롯 생성 및 저장\n",
    "plot_soft_label_boxplot(df_softlabel, soft_label_cols, BOXPLOT_OUTPUT_PATH, FONT_PROP)"
   ]
  },
  {
   "cell_type": "code",
   "execution_count": 4,
   "metadata": {},
   "outputs": [
    {
     "name": "stdout",
     "output_type": "stream",
     "text": [
      "Histograms with counts saved as '05_soft_label_histograms_with_counts.png'\n"
     ]
    }
   ],
   "source": [
    "# Cell 4: 히스토그램 생성 및 저장\n",
    "plot_soft_label_histograms(df_softlabel, soft_label_cols, HISTOGRAM_OUTPUT_PATH, FONT_PROP)"
   ]
  }
 ],
 "metadata": {
  "kernelspec": {
   "display_name": ".venv",
   "language": "python",
   "name": "python3"
  },
  "language_info": {
   "codemirror_mode": {
    "name": "ipython",
    "version": 3
   },
   "file_extension": ".py",
   "mimetype": "text/x-python",
   "name": "python",
   "nbconvert_exporter": "python",
   "pygments_lexer": "ipython3",
   "version": "3.12.3"
  }
 },
 "nbformat": 4,
 "nbformat_minor": 5
}
